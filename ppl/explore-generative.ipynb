{
 "cells": [
  {
   "cell_type": "code",
   "execution_count": 1,
   "id": "cea4e713-0b95-444a-a57f-5c64a25aee0e",
   "metadata": {},
   "outputs": [
    {
     "name": "stderr",
     "output_type": "stream",
     "text": [
      "\u001b[36m\u001b[1m[ \u001b[22m\u001b[39m\u001b[36m\u001b[1mInfo: \u001b[22m\u001b[39mPrecompiling Gen [ea4f424c-a589-11e8-07c0-fd5c91b9da4a]\n"
     ]
    }
   ],
   "source": [
    "using Gen, Plots, Images, Colors"
   ]
  },
  {
   "cell_type": "code",
   "execution_count": 199,
   "id": "9afc83ac-88a4-453b-b28e-264499fbc127",
   "metadata": {},
   "outputs": [],
   "source": [
    "# Global vars\n",
    "\n",
    "IMG_SIZE = 100;"
   ]
  },
  {
   "cell_type": "code",
   "execution_count": 200,
   "id": "8c805c90-8d38-4cd4-ac03-bd4e808ce73f",
   "metadata": {},
   "outputs": [
    {
     "data": {
      "text/plain": [
       "DynamicDSLFunction{Any}(Dict{Symbol, Any}(), Dict{Symbol, Any}(), Type[], false, Union{Nothing, Some{Any}}[], var\"##scene#296\", Bool[], false)"
      ]
     },
     "execution_count": 200,
     "metadata": {},
     "output_type": "execute_result"
    }
   ],
   "source": [
    "# See if should be static compiled for inference efficiency\n",
    "@gen function scene()\n",
    "    # Defining how many objects are in the scene\n",
    "    n_objects ~ poisson(3)\n",
    "    n_objects += 1 # Making sure at least 1 object\n",
    "\n",
    "    shape_universe = [\"square\", \"circle\", \"star\"]\n",
    "    color_universe = [\"red\", \"yellow\", \"green\"]\n",
    "\n",
    "    # Should probably make this a passed in param\n",
    "    \n",
    "    objects = []\n",
    "    for i = 1:n_objects\n",
    "\n",
    "        shape_idx = {(:shape, i)} ~ uniform_discrete(1,3)\n",
    "        shape = shape_universe[shape_idx]\n",
    "\n",
    "        color_idx = {(:color, i)} ~ uniform_discrete(1,3)\n",
    "        color = color_universe[color_idx]\n",
    "\n",
    "        x = {(:x, i)} ~ uniform_discrete(1, IMG_SIZE)\n",
    "        y = {(:y, i)} ~ uniform_discrete(1, IMG_SIZE)\n",
    "        \n",
    "        push!(objects, (shape, color, (x, y)))\n",
    "    end\n",
    "    \n",
    "    return objects\n",
    "end"
   ]
  },
  {
   "cell_type": "code",
   "execution_count": 201,
   "id": "53535bd6-99d6-453b-9134-eda7b9e05382",
   "metadata": {},
   "outputs": [
    {
     "data": {
      "text/plain": [
       "Dict{String, Function} with 3 entries:\n",
       "  \"circle\" => draw_circle!\n",
       "  \"star\"   => draw_square!\n",
       "  \"square\" => draw_square!"
      ]
     },
     "execution_count": 201,
     "metadata": {},
     "output_type": "execute_result"
    }
   ],
   "source": [
    "# Drawing utilities\n",
    "\n",
    "# colors\n",
    "color_map = Dict(\"red\" => RGB(1, 0, 0), \"yellow\" => RGB(1, 1, 0), \"green\" => RGB(0, 1, 0))\n",
    "\n",
    "# shapes\n",
    "function draw_square!(img, center, size, color)\n",
    "    x, y = center\n",
    "    half_size = size ÷ 2\n",
    "    for dx in -half_size:half_size, dy in -half_size:half_size\n",
    "        nx, ny = x + dx, y + dy\n",
    "        if 1 <= nx <= IMG_SIZE && 1 <= ny <= IMG_SIZE\n",
    "            img[ny, nx] = color\n",
    "        end\n",
    "    end\n",
    "end\n",
    "\n",
    "# Function to draw a circle\n",
    "function draw_circle!(img, center, radius, color)\n",
    "    x, y = center\n",
    "    for dx in -radius:radius, dy in -radius:radius\n",
    "        if dx^2 + dy^2 <= radius^2\n",
    "            nx, ny = x + dx, y + dy\n",
    "            if 1 <= nx <= IMG_SIZE && 1 <= ny <= IMG_SIZE\n",
    "                img[ny, nx] = color\n",
    "            end\n",
    "        end\n",
    "    end\n",
    "end\n",
    "\n",
    "shape_map = Dict(\"square\" => draw_square!, \"circle\" => draw_circle!, \"star\" => draw_square!)"
   ]
  },
  {
   "cell_type": "code",
   "execution_count": 202,
   "id": "ba939a3e-23ef-4150-ba7b-de36018dda1a",
   "metadata": {},
   "outputs": [
    {
     "data": {
      "text/plain": [
       "render (generic function with 2 methods)"
      ]
     },
     "execution_count": 202,
     "metadata": {},
     "output_type": "execute_result"
    }
   ],
   "source": [
    "function render(objects, show_img=false)\n",
    "    img = fill(RGB(1, 1, 1), IMG_SIZE, IMG_SIZE)\n",
    "    for (shape, color, center) in objects\n",
    "        shape_map[shape](img, center, 10, color_map[color])\n",
    "    end\n",
    "    if show_img\n",
    "        display(img)\n",
    "    end\n",
    "    return img\n",
    "    end"
   ]
  },
  {
   "cell_type": "code",
   "execution_count": 212,
   "id": "35bbbaa1-5548-4232-87e9-bfe4d301a8bb",
   "metadata": {},
   "outputs": [
    {
     "data": {
      "image/png": "[encoded data removed]",
      "text/html": [
       "<img src=\"data:image/png;base64,iVBORw0KGgoAAAANSUhEUgAAAGQAAABkCAIAAAD/gAIDAAAABGdBTUEAALGPC/xhBQAAAAFzUkdCAK7OHOkAAAAgY0hSTQAAeiYAAICEAAD6AAAAgOgAAHUwAADqYAAAOpgAABdwnLpRPAAAAYBJREFUeAHtwQFOGwEAA8G15P9/2RUVUZGgFycEyqWecRKmY6ZmpmamZqZmpmamZl4JwhwyiFfijzDvmI+JF2HeMEcEYS7MFYIwv5mpmesEYcBMzUzNTM1UBOG/ZyphwEzNTM1MzVwX5jczNXNFmAtzJMwb5mNh3jGEF4Iwh8yrMNeYqZmpmamZqZmpmamZqZmpmamZqZmpmamZqZmpmamZqZmpmamZqZmpmSclFMJDmScixBtCXITwaeYpCHFICAjhE8z5CdERCuFe5uSEuIVQCHcxUzNnJsTthEK4nZmamZqZmjktIe4lFMKNzGmFCHGXEG5npmamZqZmzixEiBuFcBczNXNyIULUQriX+ToSxxIeIUSIQgifYJ5CCCDEX4TwaeaJhHAhFMJDmScVwqOZqZmpmamZqZkfSlwRvp2Zmpma+ToJX03iWMLjmKmZqZmpmamZqZmpmakZiWMJ/0D4eczUzNTMqSV8IzM1MzUzNTM1MzUzNTM1kzAdMzUztV+U7kl/anW7sgAAAABJRU5ErkJg\">"
      ],
      "text/plain": [
       "100×100 Array{RGB{N0f8},2} with eltype RGB{N0f8}:\n",
       " RGB{N0f8}(1.0,1.0,1.0)  RGB{N0f8}(1.0,1.0,1.0)  …  RGB{N0f8}(1.0,1.0,1.0)\n",
       " RGB{N0f8}(1.0,1.0,1.0)  RGB{N0f8}(1.0,1.0,1.0)     RGB{N0f8}(1.0,1.0,1.0)\n",
       " RGB{N0f8}(1.0,1.0,1.0)  RGB{N0f8}(1.0,1.0,1.0)     RGB{N0f8}(1.0,1.0,1.0)\n",
       " RGB{N0f8}(1.0,1.0,1.0)  RGB{N0f8}(1.0,1.0,1.0)     RGB{N0f8}(1.0,1.0,1.0)\n",
       " RGB{N0f8}(1.0,1.0,1.0)  RGB{N0f8}(1.0,1.0,1.0)     RGB{N0f8}(1.0,1.0,1.0)\n",
       " RGB{N0f8}(1.0,1.0,1.0)  RGB{N0f8}(1.0,1.0,1.0)  …  RGB{N0f8}(1.0,1.0,1.0)\n",
       " RGB{N0f8}(1.0,1.0,1.0)  RGB{N0f8}(1.0,1.0,1.0)     RGB{N0f8}(1.0,1.0,1.0)\n",
       " RGB{N0f8}(1.0,1.0,1.0)  RGB{N0f8}(1.0,1.0,1.0)     RGB{N0f8}(1.0,1.0,1.0)\n",
       " RGB{N0f8}(1.0,1.0,0.0)  RGB{N0f8}(1.0,1.0,0.0)     RGB{N0f8}(1.0,1.0,1.0)\n",
       " RGB{N0f8}(1.0,1.0,0.0)  RGB{N0f8}(1.0,1.0,0.0)     RGB{N0f8}(1.0,1.0,1.0)\n",
       " RGB{N0f8}(1.0,1.0,0.0)  RGB{N0f8}(1.0,1.0,0.0)  …  RGB{N0f8}(1.0,1.0,1.0)\n",
       " RGB{N0f8}(1.0,1.0,0.0)  RGB{N0f8}(1.0,1.0,0.0)     RGB{N0f8}(1.0,1.0,1.0)\n",
       " RGB{N0f8}(1.0,1.0,0.0)  RGB{N0f8}(1.0,1.0,0.0)     RGB{N0f8}(1.0,1.0,1.0)\n",
       " ⋮                                               ⋱  \n",
       " RGB{N0f8}(1.0,0.0,0.0)  RGB{N0f8}(1.0,0.0,0.0)     RGB{N0f8}(1.0,1.0,1.0)\n",
       " RGB{N0f8}(1.0,0.0,0.0)  RGB{N0f8}(1.0,0.0,0.0)     RGB{N0f8}(1.0,1.0,1.0)\n",
       " RGB{N0f8}(1.0,0.0,0.0)  RGB{N0f8}(1.0,0.0,0.0)  …  RGB{N0f8}(1.0,1.0,1.0)\n",
       " RGB{N0f8}(1.0,0.0,0.0)  RGB{N0f8}(1.0,0.0,0.0)     RGB{N0f8}(1.0,1.0,1.0)\n",
       " RGB{N0f8}(1.0,0.0,0.0)  RGB{N0f8}(1.0,0.0,0.0)     RGB{N0f8}(1.0,1.0,1.0)\n",
       " RGB{N0f8}(1.0,0.0,0.0)  RGB{N0f8}(1.0,0.0,0.0)     RGB{N0f8}(1.0,1.0,1.0)\n",
       " RGB{N0f8}(1.0,0.0,0.0)  RGB{N0f8}(1.0,0.0,0.0)     RGB{N0f8}(1.0,1.0,1.0)\n",
       " RGB{N0f8}(1.0,0.0,0.0)  RGB{N0f8}(1.0,0.0,0.0)  …  RGB{N0f8}(1.0,1.0,1.0)\n",
       " RGB{N0f8}(1.0,0.0,0.0)  RGB{N0f8}(1.0,0.0,0.0)     RGB{N0f8}(1.0,1.0,1.0)\n",
       " RGB{N0f8}(1.0,1.0,1.0)  RGB{N0f8}(1.0,1.0,1.0)     RGB{N0f8}(1.0,1.0,1.0)\n",
       " RGB{N0f8}(1.0,1.0,1.0)  RGB{N0f8}(1.0,1.0,1.0)     RGB{N0f8}(1.0,1.0,1.0)\n",
       " RGB{N0f8}(1.0,1.0,1.0)  RGB{N0f8}(1.0,1.0,1.0)     RGB{N0f8}(1.0,1.0,1.0)"
      ]
     },
     "metadata": {},
     "output_type": "display_data"
    }
   ],
   "source": [
    "_ = render(get_retval(Gen.simulate(scene, ())), true);"
   ]
  },
  {
   "cell_type": "code",
   "execution_count": null,
   "id": "cf476374-e109-427c-8a70-a387ea04f16e",
   "metadata": {},
   "outputs": [],
   "source": [
    "# TODO (Zack) when write the inference code make sure that we divide the actual \n",
    "# overlap by the total potential overlap -- also only take the overlap of the non-white elements"
   ]
  }
 ],
 "metadata": {
  "kernelspec": {
   "display_name": "Julia 1.9.4",
   "language": "julia",
   "name": "julia-1.9"
  },
  "language_info": {
   "file_extension": ".jl",
   "mimetype": "application/julia",
   "name": "julia",
   "version": "1.9.4"
  }
 },
 "nbformat": 4,
 "nbformat_minor": 5
}
