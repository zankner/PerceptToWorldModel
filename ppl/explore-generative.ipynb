{
 "cells": [
  {
   "cell_type": "code",
   "execution_count": 1,
   "id": "cea4e713-0b95-444a-a57f-5c64a25aee0e",
   "metadata": {},
   "outputs": [],
   "source": [
    "using Gen, Plots, Images, Colors"
   ]
  },
  {
   "cell_type": "code",
   "execution_count": 2,
   "id": "9afc83ac-88a4-453b-b28e-264499fbc127",
   "metadata": {},
   "outputs": [],
   "source": [
    "# Global vars\n",
    "IMG_SIZE = 100;"
   ]
  },
  {
   "cell_type": "code",
   "execution_count": 3,
   "id": "8c805c90-8d38-4cd4-ac03-bd4e808ce73f",
   "metadata": {},
   "outputs": [
    {
     "data": {
      "text/plain": [
       "DynamicDSLFunction{Any}(Dict{Symbol, Any}(), Dict{Symbol, Any}(), Type[], false, Union{Nothing, Some{Any}}[], var\"##scene#292\", Bool[], false)"
      ]
     },
     "execution_count": 3,
     "metadata": {},
     "output_type": "execute_result"
    }
   ],
   "source": [
    "# See if should be static compiled for inference efficiency\n",
    "@gen function scene()\n",
    "    # Defining how many objects are in the scene\n",
    "    n_objects ~ poisson(3)\n",
    "    n_objects += 1 # Making sure at least 1 object\n",
    "\n",
    "    shape_universe = [\"square\", \"circle\", \"star\"]\n",
    "    color_universe = [\"red\", \"yellow\", \"green\"]\n",
    "\n",
    "    # Should probably make this a passed in param\n",
    "    \n",
    "    objects = []\n",
    "    for i = 1:n_objects\n",
    "\n",
    "        shape_idx = {(:shape, i)} ~ uniform_discrete(1,3)\n",
    "        shape = shape_universe[shape_idx]\n",
    "\n",
    "        color_idx = {(:color, i)} ~ uniform_discrete(1,3)\n",
    "        color = color_universe[color_idx]\n",
    "\n",
    "        x = {(:x, i)} ~ uniform_discrete(1, IMG_SIZE)\n",
    "        y = {(:y, i)} ~ uniform_discrete(1, IMG_SIZE)\n",
    "        \n",
    "        push!(objects, (shape, color, (x, y)))\n",
    "    end\n",
    "    \n",
    "    return objects\n",
    "end"
   ]
  },
  {
   "cell_type": "code",
   "execution_count": 4,
   "id": "53535bd6-99d6-453b-9134-eda7b9e05382",
   "metadata": {},
   "outputs": [
    {
     "data": {
      "text/plain": [
       "Dict{String, Function} with 3 entries:\n",
       "  \"circle\" => draw_circle!\n",
       "  \"star\"   => draw_square!\n",
       "  \"square\" => draw_square!"
      ]
     },
     "execution_count": 4,
     "metadata": {},
     "output_type": "execute_result"
    }
   ],
   "source": [
    "# Drawing utilities\n",
    "\n",
    "# colors\n",
    "color_map = Dict(\"red\" => (1.0, 0.0, 0.0), \"yellow\" => (1.0, 1.0, 0.0), \"green\" => (0.0, 1.0, 0.0))\n",
    "\n",
    "# shapes\n",
    "function draw_square!(img, center, size, color)\n",
    "    x, y = center\n",
    "    half_size = size ÷ 2\n",
    "    for dx in -half_size:half_size, dy in -half_size:half_size\n",
    "        nx, ny = x + dx, y + dy\n",
    "        if 1 <= nx <= IMG_SIZE && 1 <= ny <= IMG_SIZE\n",
    "            img[ny, nx] = color\n",
    "        end\n",
    "    end\n",
    "end\n",
    "\n",
    "# Function to draw a circle\n",
    "function draw_circle!(img, center, radius, color)\n",
    "    x, y = center\n",
    "    for dx in -radius:radius, dy in -radius:radius\n",
    "        if dx^2 + dy^2 <= radius^2\n",
    "            nx, ny = x + dx, y + dy\n",
    "            if 1 <= nx <= IMG_SIZE && 1 <= ny <= IMG_SIZE\n",
    "                img[ny, nx] = color\n",
    "            end\n",
    "        end\n",
    "    end\n",
    "end\n",
    "\n",
    "shape_map = Dict(\"square\" => draw_square!, \"circle\" => draw_circle!, \"star\" => draw_square!)"
   ]
  },
  {
   "cell_type": "code",
   "execution_count": 13,
   "id": "ba939a3e-23ef-4150-ba7b-de36018dda1a",
   "metadata": {},
   "outputs": [
    {
     "data": {
      "text/plain": [
       "render_trace (generic function with 2 methods)"
      ]
     },
     "execution_count": 13,
     "metadata": {},
     "output_type": "execute_result"
    }
   ],
   "source": [
    "function to_display_img(img_matrix)\n",
    "    return [RGB(img_matrix[i, j]...) for i in 1:IMG_SIZE, j in 1:IMG_SIZE]\n",
    "end\n",
    "\n",
    "function render(objects, show_img=false)\n",
    "    img = fill((1.0,1.0,1.0), IMG_SIZE, IMG_SIZE)\n",
    "    for (shape, color, center) in objects\n",
    "        shape_map[shape](img, center, 10, color_map[color])\n",
    "    end\n",
    "    if show_img\n",
    "        display(to_display_img(img))\n",
    "    end\n",
    "    return img\n",
    "    end\n",
    "\n",
    "function render_trace(trace, show_img=false)\n",
    "    objects = get_retval(trace)\n",
    "    render(objects, show_img)\n",
    "    end"
   ]
  },
  {
   "cell_type": "code",
   "execution_count": 14,
   "id": "35bbbaa1-5548-4232-87e9-bfe4d301a8bb",
   "metadata": {},
   "outputs": [
    {
     "data": {
      "image/png": "[encoded data removed]",
      "text/html": [
       "<img src=\"data:image/png;base64,iVBORw0KGgoAAAANSUhEUgAAAGQAAABkCAIAAAD/gAIDAAAABGdBTUEAALGPC/xhBQAAAAFzUkdCAK7OHOkAAAAgY0hSTQAAeiYAAICEAAD6AAAAgOgAAHUwAADqYAAAOpgAABdwnLpRPAAAAYFJREFUeAHtwVFq4wAAQ8En0P2vrO1XKCwtsuOUxtWMkzAdMzUzNTM1MzUzNTM1MzUzNTM1MzUzNTM1MzUzNTM1MzUzNTM1MzUzNTM1MzUzNTM1MzXzPImEP8CcI/GZxEPCTZmjJL4n8SHhdswhEiWJhHsxPYlDJBJuxEzNlCROkEi4C3MbEgmvZN6axGcSDwlXM29K4nsSHxKuYxoSp0kkXEuiJJFwEdNIkDgn4VoSh0gkXMFMzbwXiRMkEp5mpmZKCRJHJdyImZrpJUj0Eq4lcZpEwnPMIQkSjYTLJUick/A0c1TCB4mvJNyUOSfhQSLhakL8LzxE/DDzvIS/wfwFCVcwUzO3l3ARc28J1zHvK0HiKwlXM28t4UEi4ZXMbSS8mJmamZr5rUL4ZczUzNTM1MzUzNTM1MzUzNTM1MzUzNTM1MzUzNTM1MzUzNTM1MzUzNTM1MzUzNTM1MzUzNTM1MzUzNTM1MzUzNTM1MzUzNTM1MzUzNTM1MzUzNTM1P4B0MJSiTas+p0AAAAASUVORK5C\">"
      ],
      "text/plain": [
       "100×100 Array{RGB{Float64},2} with eltype RGB{Float64}:\n",
       " RGB{Float64}(1.0,1.0,1.0)  …  RGB{Float64}(1.0,1.0,1.0)\n",
       " RGB{Float64}(1.0,1.0,1.0)     RGB{Float64}(1.0,1.0,1.0)\n",
       " RGB{Float64}(1.0,1.0,1.0)     RGB{Float64}(1.0,1.0,1.0)\n",
       " RGB{Float64}(1.0,1.0,1.0)     RGB{Float64}(1.0,1.0,1.0)\n",
       " RGB{Float64}(1.0,1.0,1.0)     RGB{Float64}(1.0,1.0,1.0)\n",
       " RGB{Float64}(1.0,1.0,1.0)  …  RGB{Float64}(1.0,1.0,1.0)\n",
       " RGB{Float64}(1.0,1.0,1.0)     RGB{Float64}(1.0,1.0,1.0)\n",
       " RGB{Float64}(1.0,1.0,1.0)     RGB{Float64}(1.0,1.0,1.0)\n",
       " RGB{Float64}(1.0,1.0,1.0)     RGB{Float64}(1.0,1.0,1.0)\n",
       " RGB{Float64}(1.0,1.0,1.0)     RGB{Float64}(1.0,1.0,1.0)\n",
       " RGB{Float64}(1.0,1.0,1.0)  …  RGB{Float64}(1.0,1.0,1.0)\n",
       " RGB{Float64}(1.0,1.0,1.0)     RGB{Float64}(1.0,1.0,1.0)\n",
       " RGB{Float64}(1.0,1.0,1.0)     RGB{Float64}(1.0,1.0,1.0)\n",
       " ⋮                          ⋱  \n",
       " RGB{Float64}(1.0,1.0,1.0)     RGB{Float64}(1.0,1.0,1.0)\n",
       " RGB{Float64}(1.0,1.0,1.0)     RGB{Float64}(1.0,1.0,1.0)\n",
       " RGB{Float64}(1.0,1.0,1.0)  …  RGB{Float64}(1.0,1.0,1.0)\n",
       " RGB{Float64}(1.0,1.0,1.0)     RGB{Float64}(1.0,1.0,1.0)\n",
       " RGB{Float64}(1.0,1.0,1.0)     RGB{Float64}(1.0,1.0,1.0)\n",
       " RGB{Float64}(1.0,1.0,1.0)     RGB{Float64}(1.0,1.0,1.0)\n",
       " RGB{Float64}(1.0,1.0,1.0)     RGB{Float64}(1.0,1.0,1.0)\n",
       " RGB{Float64}(1.0,1.0,1.0)  …  RGB{Float64}(1.0,1.0,1.0)\n",
       " RGB{Float64}(1.0,1.0,1.0)     RGB{Float64}(1.0,1.0,1.0)\n",
       " RGB{Float64}(1.0,1.0,1.0)     RGB{Float64}(1.0,1.0,1.0)\n",
       " RGB{Float64}(1.0,1.0,1.0)     RGB{Float64}(1.0,1.0,1.0)\n",
       " RGB{Float64}(1.0,1.0,1.0)     RGB{Float64}(1.0,1.0,1.0)"
      ]
     },
     "metadata": {},
     "output_type": "display_data"
    }
   ],
   "source": [
    "render_trace(Gen.simulate(scene, ()), true);"
   ]
  },
  {
   "cell_type": "code",
   "execution_count": 15,
   "id": "b3b84bbf-79ff-46a5-9b21-939191f0fcbb",
   "metadata": {},
   "outputs": [
    {
     "data": {
      "image/png": "[encoded data removed]",
      "text/html": [
       "<img src=\"data:image/png;base64,iVBORw0KGgoAAAANSUhEUgAAAGQAAABkCAIAAAD/gAIDAAAABGdBTUEAALGPC/xhBQAAAAFzUkdCAK7OHOkAAAAgY0hSTQAAeiYAAICEAAD6AAAAgOgAAHUwAADqYAAAOpgAABdwnLpRPAAAAUpJREFUeAHtwVFqG0AQRME38O5/5fFXQiAgWtY60dpd5e5SGamYVEwqJhWTiknFpGJSMamYVEwqJhWTiknFpGJSMamYVEwqJhWTiknFpGJSMamYVEwqJhWTiknFpGJSMamYVEwqJhWTiknFpGJSMamYVEwqJhWTiknFpGJSMamYVEwqJhWTiknFpGJSMamYVEzewQyP7fIGpGJSMamYVEwqJhWTiknFpGJSMXkHu9xAKiYVk4pJxaRiUjE5a4bHdrmWHDHDDyAVk4rJdzHMsnwludkw/GEYflmW0+ROw/DQMMCynCMXGobMMMtyiNxmGJ4xzLKcIBWTJw3D35bfdvg6w/C8YZblZfJv7HI/OW6Xb0oqJvcYhs8aZlleI/dYdhg+ZVleJhWTiknF5CrLDsOTluUEqZg8aVn+q2WHIbYsh8iFlh2GwLKc8wEf6jCNjOeUHQAAAABJRU5ErkJg\">"
      ],
      "text/plain": [
       "100×100 Array{RGB{Float64},2} with eltype RGB{Float64}:\n",
       " RGB{Float64}(1.0,1.0,1.0)  …  RGB{Float64}(1.0,1.0,1.0)\n",
       " RGB{Float64}(1.0,1.0,1.0)     RGB{Float64}(1.0,1.0,1.0)\n",
       " RGB{Float64}(1.0,1.0,1.0)     RGB{Float64}(1.0,1.0,1.0)\n",
       " RGB{Float64}(1.0,1.0,1.0)     RGB{Float64}(1.0,1.0,1.0)\n",
       " RGB{Float64}(1.0,1.0,1.0)     RGB{Float64}(1.0,1.0,1.0)\n",
       " RGB{Float64}(1.0,1.0,1.0)  …  RGB{Float64}(1.0,1.0,1.0)\n",
       " RGB{Float64}(1.0,1.0,1.0)     RGB{Float64}(1.0,1.0,1.0)\n",
       " RGB{Float64}(1.0,1.0,1.0)     RGB{Float64}(1.0,1.0,1.0)\n",
       " RGB{Float64}(1.0,1.0,1.0)     RGB{Float64}(1.0,1.0,1.0)\n",
       " RGB{Float64}(1.0,1.0,1.0)     RGB{Float64}(1.0,1.0,1.0)\n",
       " RGB{Float64}(1.0,1.0,1.0)  …  RGB{Float64}(1.0,1.0,1.0)\n",
       " RGB{Float64}(1.0,1.0,1.0)     RGB{Float64}(1.0,1.0,1.0)\n",
       " RGB{Float64}(1.0,1.0,1.0)     RGB{Float64}(1.0,1.0,1.0)\n",
       " ⋮                          ⋱  \n",
       " RGB{Float64}(1.0,1.0,1.0)     RGB{Float64}(1.0,1.0,1.0)\n",
       " RGB{Float64}(1.0,1.0,1.0)     RGB{Float64}(1.0,1.0,1.0)\n",
       " RGB{Float64}(1.0,1.0,1.0)  …  RGB{Float64}(1.0,1.0,1.0)\n",
       " RGB{Float64}(1.0,1.0,1.0)     RGB{Float64}(1.0,1.0,1.0)\n",
       " RGB{Float64}(1.0,1.0,1.0)     RGB{Float64}(1.0,1.0,1.0)\n",
       " RGB{Float64}(1.0,1.0,1.0)     RGB{Float64}(1.0,1.0,1.0)\n",
       " RGB{Float64}(1.0,1.0,1.0)     RGB{Float64}(1.0,1.0,1.0)\n",
       " RGB{Float64}(1.0,1.0,1.0)  …  RGB{Float64}(1.0,1.0,1.0)\n",
       " RGB{Float64}(1.0,1.0,1.0)     RGB{Float64}(1.0,1.0,1.0)\n",
       " RGB{Float64}(1.0,1.0,1.0)     RGB{Float64}(1.0,1.0,1.0)\n",
       " RGB{Float64}(1.0,1.0,1.0)     RGB{Float64}(1.0,1.0,1.0)\n",
       " RGB{Float64}(1.0,1.0,1.0)     RGB{Float64}(1.0,1.0,1.0)"
      ]
     },
     "metadata": {},
     "output_type": "display_data"
    }
   ],
   "source": [
    "# Experimenting w/ constraints\n",
    "constraints = Gen.choicemap()\n",
    "constraints[:n_objects] = 4\n",
    "(trace, _) = Gen.generate(scene, (), constraints)\n",
    "render_trace(trace, true);"
   ]
  },
  {
   "cell_type": "code",
   "execution_count": 16,
   "id": "cf476374-e109-427c-8a70-a387ea04f16e",
   "metadata": {},
   "outputs": [],
   "source": [
    "# TODO (Zack) when write the inference code make sure that we divide the actual \n",
    "# overlap by the total potential overlap -- also only take the overlap of the non-white elements"
   ]
  },
  {
   "cell_type": "code",
   "execution_count": 190,
   "id": "97183934-b02d-4fe0-b682-fc23fedfaad7",
   "metadata": {},
   "outputs": [],
   "source": [
    "# Image observation distribution\n",
    "struct ObservationMixture <: Distribution{Matrix{Tuple{Float64, Float64, Float64}}} end\n",
    "\n",
    "function Gen.random(::ObservationMixture)\n",
    "    return render(scene())\n",
    "end\n",
    "\n",
    "function Gen.logpdf(::ObservationMixture,\n",
    "        Y::Matrix{Tuple{Float64, Float64, Float64}},\n",
    "        X::Matrix{Tuple{Float64, Float64, Float64}})\n",
    "\n",
    "    blank = fill((1.0,1.0,1.0), size(X))\n",
    "    obs_non_background = .!(Y .== blank)\n",
    "    input_non_background = .!(X .== blank)\n",
    "\n",
    "    intersection = sum(obs_non_background .& input_non_background)\n",
    "    normalizer = sum(input_non_background)\n",
    "\n",
    "    return log(intersection) - log(normalizer)\n",
    "end"
   ]
  },
  {
   "cell_type": "code",
   "execution_count": 197,
   "id": "834fa5af-843c-4b6d-a913-beb7a57f0464",
   "metadata": {},
   "outputs": [
    {
     "data": {
      "text/plain": [
       "0.0351145038167939"
      ]
     },
     "execution_count": 197,
     "metadata": {},
     "output_type": "execute_result"
    }
   ],
   "source": [
    "obs_mixture = ObservationMixture()\n",
    "Y = random(obs_mixture)\n",
    "X = random(obs_mixture)\n",
    "exp(logpdf(obs_mixture, Y, X))"
   ]
  },
  {
   "cell_type": "code",
   "execution_count": 199,
   "id": "fb87d2f6-ef24-4592-bc6e-00eb335461d6",
   "metadata": {},
   "outputs": [
    {
     "data": {
      "text/plain": [
       "DynamicDSLFunction{Any}(Dict{Symbol, Any}(), Dict{Symbol, Any}(), Type[], false, Union{Nothing, Some{Any}}[], var\"##img_model#297\", Bool[], false)"
      ]
     },
     "execution_count": 199,
     "metadata": {},
     "output_type": "execute_result"
    }
   ],
   "source": [
    "@gen function img_model()\n",
    "    img ~ random(ObservationMixture())\n",
    "    return img\n",
    "end"
   ]
  },
  {
   "cell_type": "code",
   "execution_count": 187,
   "id": "6e70dbfb-0705-49ec-994b-daf7043637e7",
   "metadata": {},
   "outputs": [
    {
     "ename": "LoadError",
     "evalue": "MethodError: no method matching traceat(::Gen.GFUntracedState, ::typeof(random), ::Tuple{ObservationMixture}, ::Symbol)\n\n\u001b[0mClosest candidates are:\n\u001b[0m  traceat(::Gen.GFUntracedState, \u001b[91m::GenerativeFunction\u001b[39m, ::Any, ::Any)\n\u001b[0m\u001b[90m   @\u001b[39m \u001b[35mGen\u001b[39m \u001b[90m~/.julia/packages/Gen/ME5el/src/dynamic/\u001b[39m\u001b[90m\u001b[4mdynamic.jl:84\u001b[24m\u001b[39m\n\u001b[0m  traceat(::Gen.GFUntracedState, \u001b[91m::Distribution\u001b[39m, ::Any, ::Any)\n\u001b[0m\u001b[90m   @\u001b[39m \u001b[35mGen\u001b[39m \u001b[90m~/.julia/packages/Gen/ME5el/src/dynamic/\u001b[39m\u001b[90m\u001b[4mdynamic.jl:87\u001b[24m\u001b[39m\n\u001b[0m  traceat(\u001b[91m::Gen.GFProposeState\u001b[39m, \u001b[91m::Distribution{T}\u001b[39m, ::Any, ::Any) where T\n\u001b[0m\u001b[90m   @\u001b[39m \u001b[35mGen\u001b[39m \u001b[90m~/.julia/packages/Gen/ME5el/src/dynamic/\u001b[39m\u001b[90m\u001b[4mpropose.jl:12\u001b[24m\u001b[39m\n\u001b[0m  ...\n",
     "output_type": "error",
     "traceback": [
      "MethodError: no method matching traceat(::Gen.GFUntracedState, ::typeof(random), ::Tuple{ObservationMixture}, ::Symbol)\n\n\u001b[0mClosest candidates are:\n\u001b[0m  traceat(::Gen.GFUntracedState, \u001b[91m::GenerativeFunction\u001b[39m, ::Any, ::Any)\n\u001b[0m\u001b[90m   @\u001b[39m \u001b[35mGen\u001b[39m \u001b[90m~/.julia/packages/Gen/ME5el/src/dynamic/\u001b[39m\u001b[90m\u001b[4mdynamic.jl:84\u001b[24m\u001b[39m\n\u001b[0m  traceat(::Gen.GFUntracedState, \u001b[91m::Distribution\u001b[39m, ::Any, ::Any)\n\u001b[0m\u001b[90m   @\u001b[39m \u001b[35mGen\u001b[39m \u001b[90m~/.julia/packages/Gen/ME5el/src/dynamic/\u001b[39m\u001b[90m\u001b[4mdynamic.jl:87\u001b[24m\u001b[39m\n\u001b[0m  traceat(\u001b[91m::Gen.GFProposeState\u001b[39m, \u001b[91m::Distribution{T}\u001b[39m, ::Any, ::Any) where T\n\u001b[0m\u001b[90m   @\u001b[39m \u001b[35mGen\u001b[39m \u001b[90m~/.julia/packages/Gen/ME5el/src/dynamic/\u001b[39m\u001b[90m\u001b[4mpropose.jl:12\u001b[24m\u001b[39m\n\u001b[0m  ...\n",
      "",
      "Stacktrace:",
      " [1] var\"##img_model#296\"(state#294::Gen.GFUntracedState)",
      "   @ Main ./In[186]:2",
      " [2] (::DynamicDSLFunction{Any})()",
      "   @ Gen ~/.julia/packages/Gen/ME5el/src/dynamic/dynamic.jl:54",
      " [3] top-level scope",
      "   @ In[187]:1"
     ]
    }
   ],
   "source": [
    "img_model()"
   ]
  },
  {
   "cell_type": "code",
   "execution_count": null,
   "id": "5aa90eb5-1cdb-4dce-a3d6-1e7773877af3",
   "metadata": {},
   "outputs": [],
   "source": [
    "# Example inference procedure\n",
    "function do_inference(model, xs, ys, amount_of_computation)\n",
    "    \n",
    "    # Create a choice map that maps model addresses (:y, i)\n",
    "    # to observed values ys[i]. We leave :slope and :intercept\n",
    "    # unconstrained, because we want them to be inferred.\n",
    "    observations = Gen.choicemap()\n",
    "    for (i, y) in enumerate(ys)\n",
    "        observations[(:y, i)] = y\n",
    "    end\n",
    "    \n",
    "    # Call importance_resampling to obtain a likely trace consistent\n",
    "    # with our observations.\n",
    "    (trace, _) = Gen.importance_resampling(model, (xs,), observations, amount_of_computation);\n",
    "    return trace\n",
    "end;"
   ]
  }
 ],
 "metadata": {
  "kernelspec": {
   "display_name": "Julia 1.9.4",
   "language": "julia",
   "name": "julia-1.9"
  },
  "language_info": {
   "file_extension": ".jl",
   "mimetype": "application/julia",
   "name": "julia",
   "version": "1.9.4"
  }
 },
 "nbformat": 4,
 "nbformat_minor": 5
}
