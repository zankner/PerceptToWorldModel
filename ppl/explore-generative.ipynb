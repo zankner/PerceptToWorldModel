{
 "cells": [
  {
   "cell_type": "code",
   "execution_count": 97,
   "id": "cea4e713-0b95-444a-a57f-5c64a25aee0e",
   "metadata": {},
   "outputs": [],
   "source": [
    "using Gen, Plots, Images, Colors"
   ]
  },
  {
   "cell_type": "code",
   "execution_count": 98,
   "id": "9afc83ac-88a4-453b-b28e-264499fbc127",
   "metadata": {},
   "outputs": [],
   "source": [
    "# Global vars\n",
    "IMG_SIZE = 100;"
   ]
  },
  {
   "cell_type": "markdown",
   "id": "571f85c3-0579-4ca0-b64c-17f737fb2b47",
   "metadata": {},
   "source": [
    "## Rendering of a scene"
   ]
  },
  {
   "cell_type": "code",
   "execution_count": 38,
   "id": "53535bd6-99d6-453b-9134-eda7b9e05382",
   "metadata": {},
   "outputs": [
    {
     "data": {
      "text/plain": [
       "Dict{String, Function} with 3 entries:\n",
       "  \"circle\" => draw_circle!\n",
       "  \"star\"   => draw_square!\n",
       "  \"square\" => draw_square!"
      ]
     },
     "execution_count": 38,
     "metadata": {},
     "output_type": "execute_result"
    }
   ],
   "source": [
    "# Drawing utilities\n",
    "\n",
    "# colors\n",
    "color_map = Dict(\"red\" => (1.0, 0.0, 0.0), \"yellow\" => (1.0, 1.0, 0.0), \"green\" => (0.0, 1.0, 0.0))\n",
    "\n",
    "# shapes\n",
    "function draw_square!(img, center, size, color)\n",
    "    x, y = center\n",
    "    half_size = size ÷ 2\n",
    "    for dx in -half_size:half_size, dy in -half_size:half_size\n",
    "        nx, ny = x + dx, y + dy\n",
    "        if 1 <= nx <= IMG_SIZE && 1 <= ny <= IMG_SIZE\n",
    "            img[ny, nx] = color\n",
    "        end\n",
    "    end\n",
    "end\n",
    "\n",
    "# Function to draw a circle\n",
    "function draw_circle!(img, center, radius, color)\n",
    "    x, y = center\n",
    "    for dx in -radius:radius, dy in -radius:radius\n",
    "        if dx^2 + dy^2 <= radius^2\n",
    "            nx, ny = x + dx, y + dy\n",
    "            if 1 <= nx <= IMG_SIZE && 1 <= ny <= IMG_SIZE\n",
    "                img[ny, nx] = color\n",
    "            end\n",
    "        end\n",
    "    end\n",
    "end\n",
    "\n",
    "shape_map = Dict(\"square\" => draw_square!, \"circle\" => draw_circle!, \"star\" => draw_square!)"
   ]
  },
  {
   "cell_type": "code",
   "execution_count": 39,
   "id": "ba939a3e-23ef-4150-ba7b-de36018dda1a",
   "metadata": {},
   "outputs": [
    {
     "data": {
      "text/plain": [
       "render_trace (generic function with 2 methods)"
      ]
     },
     "execution_count": 39,
     "metadata": {},
     "output_type": "execute_result"
    }
   ],
   "source": [
    "function to_display_img(img_matrix)\n",
    "    return [RGB(img_matrix[i, j]...) for i in 1:IMG_SIZE, j in 1:IMG_SIZE]\n",
    "end\n",
    "\n",
    "function render(objects, show_img=false)\n",
    "    img = fill((1.0,1.0,1.0), IMG_SIZE, IMG_SIZE)\n",
    "    for (shape, color, center) in objects\n",
    "        shape_map[shape](img, center, 10, color_map[color])\n",
    "    end\n",
    "    if show_img\n",
    "        display(to_display_img(img))\n",
    "    end\n",
    "    return img\n",
    "    end\n",
    "\n",
    "function render_trace(trace, show_img=false)\n",
    "    objects = get_retval(trace)\n",
    "    render(objects, show_img)\n",
    "    end"
   ]
  },
  {
   "cell_type": "markdown",
   "id": "c71f7f45-5ff4-4db7-9a60-3a5efe712794",
   "metadata": {},
   "source": [
    "## Generative model for a scene"
   ]
  },
  {
   "cell_type": "code",
   "execution_count": 99,
   "id": "8c805c90-8d38-4cd4-ac03-bd4e808ce73f",
   "metadata": {},
   "outputs": [
    {
     "data": {
      "text/plain": [
       "DynamicDSLFunction{Any}(Dict{Symbol, Any}(), Dict{Symbol, Any}(), Type[], false, Union{Nothing, Some{Any}}[], var\"##scene#305\", Bool[], false)"
      ]
     },
     "execution_count": 99,
     "metadata": {},
     "output_type": "execute_result"
    }
   ],
   "source": [
    "# See if should be static compiled for inference efficiency\n",
    "@gen function scene()\n",
    "    # Defining how many objects are in the scene\n",
    "    n_objects ~ poisson(3)\n",
    "    n_objects += 1 # Making sure at least 1 object\n",
    "\n",
    "    shape_universe = [\"square\", \"circle\", \"star\"]\n",
    "    color_universe = [\"red\", \"yellow\", \"green\"]\n",
    "\n",
    "    # Should probably make this a passed in param\n",
    "    \n",
    "    objects = []\n",
    "    for i = 1:n_objects\n",
    "\n",
    "        shape_idx = {(:shape, i)} ~ uniform_discrete(1,3)\n",
    "        shape = shape_universe[shape_idx]\n",
    "\n",
    "        color_idx = {(:color, i)} ~ uniform_discrete(1,3)\n",
    "        color = color_universe[color_idx]\n",
    "\n",
    "        x = {(:x, i)} ~ uniform_discrete(1, IMG_SIZE)\n",
    "        y = {(:y, i)} ~ uniform_discrete(1, IMG_SIZE)\n",
    "        \n",
    "        push!(objects, (shape, color, (x, y)))\n",
    "    end\n",
    "    \n",
    "    return objects\n",
    "end"
   ]
  },
  {
   "cell_type": "code",
   "execution_count": 100,
   "id": "c428f1ae-5d3a-4608-b807-5639f7be15da",
   "metadata": {},
   "outputs": [
    {
     "data": {
      "text/plain": [
       "DynamicDSLFunction{Any}(Dict{Symbol, Any}(), Dict{Symbol, Any}(), Type[], false, Union{Nothing, Some{Any}}[], var\"##render_model#306\", Bool[], false)"
      ]
     },
     "execution_count": 100,
     "metadata": {},
     "output_type": "execute_result"
    }
   ],
   "source": [
    "# Generative for scoring\n",
    "@gen function render_model()\n",
    "    latents ~ scene()\n",
    "    x = render(latents)\n",
    "    obs ~ obs_mixture(x)\n",
    "    return nothing\n",
    "end"
   ]
  },
  {
   "cell_type": "code",
   "execution_count": 104,
   "id": "35bbbaa1-5548-4232-87e9-bfe4d301a8bb",
   "metadata": {},
   "outputs": [
    {
     "data": {
      "image/png": "[encoded data removed]",
      "text/html": [
       "<img src=\"data:image/png;base64,iVBORw0KGgoAAAANSUhEUgAAAGQAAABkCAIAAAD/gAIDAAAABGdBTUEAALGPC/xhBQAAAAFzUkdCAK7OHOkAAAAgY0hSTQAAeiYAAICEAAD6AAAAgOgAAHUwAADqYAAAOpgAABdwnLpRPAAAATFJREFUeAHtwTFOGAEQBMFeqf//5bWIEIHNQHC3lqbK3aUyUjG5bmC5QS4avhg+Le+RW4ZvDB+WN8ghQ2pgeZxcMfzMwPIsqZicMPzGwPIgqZhUTCom7xt+b2B5irxvYfil5UFSMamYVExOWBh+bHmWVEyuWBh+YHmcHLIwRJY3yC3Lh+GvlvfIRcungeUGuW45QyomFZOKScWkYlIxqZhUTComFZOKScWkYlIxqZhUTComFZOKScWkYlIxOW34xvIgqZhUTComFZOKScWkYlIxqZhUTE5bLpGKScWkYlIxqZhUTComFZOKScWkYlIxqZhUTComFZOKScWkYlIxqZhUTComFZOKScWkYvKSYfinZTlGKiYVk4pJxaRiUjGpmFRMKiYVk5csy/9GKiYVk4r9AQgmHopj/E0CAAAAAElFTkSuQmCC\">"
      ],
      "text/plain": [
       "100×100 Array{RGB{Float64},2} with eltype RGB{Float64}:\n",
       " RGB{Float64}(1.0,1.0,1.0)  …  RGB{Float64}(1.0,1.0,1.0)\n",
       " RGB{Float64}(1.0,1.0,1.0)     RGB{Float64}(1.0,1.0,1.0)\n",
       " RGB{Float64}(1.0,1.0,1.0)     RGB{Float64}(1.0,1.0,1.0)\n",
       " RGB{Float64}(1.0,1.0,1.0)     RGB{Float64}(1.0,1.0,1.0)\n",
       " RGB{Float64}(1.0,1.0,1.0)     RGB{Float64}(1.0,1.0,1.0)\n",
       " RGB{Float64}(1.0,1.0,1.0)  …  RGB{Float64}(1.0,1.0,1.0)\n",
       " RGB{Float64}(1.0,1.0,1.0)     RGB{Float64}(1.0,1.0,1.0)\n",
       " RGB{Float64}(1.0,1.0,1.0)     RGB{Float64}(1.0,1.0,1.0)\n",
       " RGB{Float64}(1.0,1.0,1.0)     RGB{Float64}(1.0,1.0,1.0)\n",
       " RGB{Float64}(1.0,1.0,1.0)     RGB{Float64}(1.0,1.0,1.0)\n",
       " RGB{Float64}(1.0,1.0,1.0)  …  RGB{Float64}(1.0,1.0,1.0)\n",
       " RGB{Float64}(1.0,1.0,1.0)     RGB{Float64}(1.0,1.0,1.0)\n",
       " RGB{Float64}(1.0,1.0,1.0)     RGB{Float64}(1.0,1.0,1.0)\n",
       " ⋮                          ⋱  \n",
       " RGB{Float64}(1.0,1.0,1.0)     RGB{Float64}(1.0,1.0,1.0)\n",
       " RGB{Float64}(1.0,1.0,1.0)     RGB{Float64}(1.0,1.0,1.0)\n",
       " RGB{Float64}(1.0,1.0,1.0)  …  RGB{Float64}(1.0,1.0,1.0)\n",
       " RGB{Float64}(1.0,1.0,1.0)     RGB{Float64}(1.0,1.0,1.0)\n",
       " RGB{Float64}(1.0,1.0,1.0)     RGB{Float64}(1.0,1.0,1.0)\n",
       " RGB{Float64}(1.0,1.0,1.0)     RGB{Float64}(1.0,1.0,1.0)\n",
       " RGB{Float64}(1.0,1.0,1.0)     RGB{Float64}(1.0,1.0,1.0)\n",
       " RGB{Float64}(1.0,1.0,1.0)  …  RGB{Float64}(1.0,1.0,1.0)\n",
       " RGB{Float64}(1.0,1.0,1.0)     RGB{Float64}(1.0,1.0,1.0)\n",
       " RGB{Float64}(1.0,1.0,1.0)     RGB{Float64}(1.0,1.0,1.0)\n",
       " RGB{Float64}(1.0,1.0,1.0)     RGB{Float64}(1.0,1.0,1.0)\n",
       " RGB{Float64}(1.0,1.0,1.0)     RGB{Float64}(1.0,1.0,1.0)"
      ]
     },
     "metadata": {},
     "output_type": "display_data"
    }
   ],
   "source": [
    "# Example usage\n",
    "render_trace(Gen.simulate(scene, ()), true);"
   ]
  },
  {
   "cell_type": "markdown",
   "id": "8e1d62b9-a8bf-4bf2-81ab-3efd38dcc901",
   "metadata": {},
   "source": [
    "## Scoring sampled scenes"
   ]
  },
  {
   "cell_type": "code",
   "execution_count": 111,
   "id": "97183934-b02d-4fe0-b682-fc23fedfaad7",
   "metadata": {},
   "outputs": [],
   "source": [
    "# Image observation distribution\n",
    "struct ObservationMixture <: Distribution{Matrix{Tuple{Float64, Float64, Float64}}} end\n",
    "\n",
    "function Gen.random(::ObservationMixture, X::Matrix{Tuple{Float64, Float64, Float64}})\n",
    "    # Throw an error since just a scoring fn\n",
    "    return X\n",
    "end\n",
    "\n",
    "function Gen.logpdf(::ObservationMixture,\n",
    "        Y::Matrix{Tuple{Float64, Float64, Float64}},\n",
    "        X::Matrix{Tuple{Float64, Float64, Float64}})\n",
    "\n",
    "    blank = fill((1.0,1.0,1.0), size(X))\n",
    "    obs_non_background = .!(Y .== blank)\n",
    "    input_non_background = .!(X .== blank)\n",
    "\n",
    "    intersection = sum(obs_non_background .& input_non_background)\n",
    "    normalizer = sum(input_non_background)\n",
    "\n",
    "    return log(intersection) - log(normalizer)\n",
    "end\n",
    "\n",
    "(o::ObservationMixture)(arg) = Gen.random(o, arg)\n",
    "# (o::ObservationMixture).logpdf(args...) = Gen.logpdf(o, args)"
   ]
  },
  {
   "cell_type": "code",
   "execution_count": 121,
   "id": "834fa5af-843c-4b6d-a913-beb7a57f0464",
   "metadata": {},
   "outputs": [
    {
     "name": "stdout",
     "output_type": "stream",
     "text": [
      "Sanity checking score fn: 1.0"
     ]
    }
   ],
   "source": [
    "obs_mixture = ObservationMixture()\n",
    "foo = render(scene())\n",
    "_ = obs_mixture(foo)\n",
    "print(\"Sanity checking score fn: \", exp(logpdf(obs_mixture, foo, foo)))"
   ]
  },
  {
   "cell_type": "markdown",
   "id": "ae953162-c530-4c30-9b6f-61a2b23339eb",
   "metadata": {},
   "source": [
    "## Inference procedure"
   ]
  },
  {
   "cell_type": "code",
   "execution_count": 83,
   "id": "5aa90eb5-1cdb-4dce-a3d6-1e7773877af3",
   "metadata": {},
   "outputs": [],
   "source": [
    "# Example inference procedure\n",
    "function do_inference(model, constraints, num_iter)\n",
    "    \n",
    "    # # Create a choice map that maps model addresses (:y, i)\n",
    "    # # to observed values ys[i]. We leave :slope and :intercept\n",
    "    # # unconstrained, because we want them to be inferred.\n",
    "    # observations = Gen.choicemap()\n",
    "    # for (i, y) in enumerate(ys)\n",
    "    #     observations[(:y, i)] = y\n",
    "    # end\n",
    "    \n",
    "    # Call importance_resampling to obtain a likely trace consistent\n",
    "    # with our observations.\n",
    "    (trace, weight) = Gen.importance_resampling(model, (), constraints, num_iter);\n",
    "    return trace, weight\n",
    "end;"
   ]
  },
  {
   "cell_type": "code",
   "execution_count": 84,
   "id": "bfc1a2cd-0d57-421a-81a4-f02b19db00ef",
   "metadata": {},
   "outputs": [
    {
     "data": {
      "text/plain": [
       "100×100 Matrix{Tuple{Float64, Float64, Float64}}:\n",
       " (1.0, 1.0, 1.0)  (1.0, 1.0, 1.0)  …  (1.0, 1.0, 1.0)  (1.0, 1.0, 1.0)\n",
       " (1.0, 1.0, 1.0)  (1.0, 1.0, 1.0)     (1.0, 1.0, 1.0)  (1.0, 1.0, 1.0)\n",
       " (1.0, 1.0, 1.0)  (1.0, 1.0, 1.0)     (1.0, 1.0, 1.0)  (1.0, 1.0, 1.0)\n",
       " (1.0, 1.0, 1.0)  (1.0, 1.0, 1.0)     (1.0, 1.0, 1.0)  (1.0, 1.0, 1.0)\n",
       " (1.0, 1.0, 1.0)  (1.0, 1.0, 1.0)     (1.0, 1.0, 1.0)  (1.0, 1.0, 1.0)\n",
       " (1.0, 1.0, 1.0)  (1.0, 1.0, 1.0)  …  (1.0, 1.0, 1.0)  (1.0, 1.0, 1.0)\n",
       " (1.0, 1.0, 1.0)  (1.0, 1.0, 1.0)     (1.0, 1.0, 1.0)  (1.0, 1.0, 1.0)\n",
       " (1.0, 1.0, 1.0)  (1.0, 1.0, 1.0)     (1.0, 1.0, 1.0)  (1.0, 1.0, 1.0)\n",
       " (1.0, 1.0, 1.0)  (1.0, 1.0, 1.0)     (1.0, 1.0, 1.0)  (1.0, 1.0, 1.0)\n",
       " (1.0, 1.0, 1.0)  (1.0, 1.0, 1.0)     (1.0, 1.0, 1.0)  (1.0, 1.0, 1.0)\n",
       " (1.0, 1.0, 1.0)  (1.0, 1.0, 1.0)  …  (1.0, 1.0, 1.0)  (1.0, 1.0, 1.0)\n",
       " (1.0, 1.0, 1.0)  (1.0, 1.0, 1.0)     (1.0, 1.0, 1.0)  (1.0, 1.0, 1.0)\n",
       " (1.0, 1.0, 1.0)  (1.0, 1.0, 1.0)     (1.0, 1.0, 1.0)  (1.0, 1.0, 1.0)\n",
       " ⋮                                 ⋱                   \n",
       " (1.0, 1.0, 1.0)  (1.0, 1.0, 1.0)     (1.0, 1.0, 1.0)  (1.0, 1.0, 1.0)\n",
       " (1.0, 1.0, 1.0)  (1.0, 1.0, 1.0)     (1.0, 1.0, 1.0)  (1.0, 1.0, 1.0)\n",
       " (1.0, 1.0, 1.0)  (1.0, 1.0, 1.0)  …  (1.0, 1.0, 1.0)  (1.0, 1.0, 1.0)\n",
       " (1.0, 1.0, 1.0)  (1.0, 1.0, 1.0)     (1.0, 1.0, 1.0)  (1.0, 1.0, 1.0)\n",
       " (1.0, 1.0, 1.0)  (1.0, 1.0, 1.0)     (1.0, 1.0, 1.0)  (1.0, 1.0, 1.0)\n",
       " (1.0, 1.0, 1.0)  (1.0, 1.0, 1.0)     (1.0, 1.0, 1.0)  (1.0, 1.0, 1.0)\n",
       " (1.0, 1.0, 1.0)  (1.0, 1.0, 1.0)     (1.0, 1.0, 1.0)  (1.0, 1.0, 1.0)\n",
       " (1.0, 1.0, 1.0)  (1.0, 1.0, 1.0)  …  (1.0, 1.0, 1.0)  (1.0, 1.0, 1.0)\n",
       " (1.0, 1.0, 1.0)  (1.0, 1.0, 1.0)     (1.0, 1.0, 1.0)  (1.0, 1.0, 1.0)\n",
       " (1.0, 1.0, 1.0)  (1.0, 1.0, 1.0)     (1.0, 1.0, 1.0)  (1.0, 1.0, 1.0)\n",
       " (1.0, 1.0, 1.0)  (1.0, 1.0, 1.0)     (1.0, 1.0, 1.0)  (1.0, 1.0, 1.0)\n",
       " (1.0, 1.0, 1.0)  (1.0, 1.0, 1.0)     (1.0, 1.0, 1.0)  (1.0, 1.0, 1.0)"
      ]
     },
     "execution_count": 84,
     "metadata": {},
     "output_type": "execute_result"
    }
   ],
   "source": [
    "obs = render(scene())"
   ]
  },
  {
   "cell_type": "code",
   "execution_count": 135,
   "id": "bf839a73-9529-476c-a855-afd82a67afc2",
   "metadata": {},
   "outputs": [],
   "source": [
    "constraints = Gen.choicemap()\n",
    "constraints[:obs] = obs\n",
    "trace, weight = do_inference(render_model, constraints, 50_000);"
   ]
  },
  {
   "cell_type": "code",
   "execution_count": 136,
   "id": "b406f522-d683-46bb-995d-ae68c26f786d",
   "metadata": {},
   "outputs": [
    {
     "data": {
      "text/plain": [
       "Nothing"
      ]
     },
     "execution_count": 136,
     "metadata": {},
     "output_type": "execute_result"
    }
   ],
   "source": [
    "typeof(get_retval(trace))"
   ]
  },
  {
   "cell_type": "code",
   "execution_count": 137,
   "id": "7c4eb0d5-0c7e-460b-85a1-245de7dad674",
   "metadata": {},
   "outputs": [
    {
     "data": {
      "image/png": "[encoded data removed]",
      "text/html": [
       "<img src=\"data:image/png;base64,iVBORw0KGgoAAAANSUhEUgAAAGQAAABkCAIAAAD/gAIDAAAABGdBTUEAALGPC/xhBQAAAAFzUkdCAK7OHOkAAAAgY0hSTQAAeiYAAICEAAD6AAAAgOgAAHUwAADqYAAAOpgAABdwnLpRPAAAAZRJREFUeAHtwVFuGgEAQ8Fnyfe/sssXQkqJzBJ1N9QzTsJ0zNTM1MzUzNTM1MzUzNTM1MzUzNTM1MzUzNTM1MzUzNTM1MzUzNTM1MzUzNTM1MzUzNTM1MzUzNTM1MzUzNTM1MzUzNTM1MzUzNTM1CzEEyHMAzM185wQT4Tw/zFTM1MzUzNTM1MzUzNTM1NzCF8IMV+YqZm/CWG+MFMzUzNTM1MzUzNTM1MzUzNTM1MzUzNTM1cjkXBJ5gokHkncJVyGOZfE9yRuEi7AnEiiJJFwNnMWiZdIJJzKfCqJhB9lTiFxgETCNyQeSdwlvM18BonvSdwkvMF8AImSRMJR5reTeIlEwiHm35M4TCLhJObfS5A4JuGRxAESCa8zUzNTM1Mzp0iQeFXCI4nDJBJeZH6vBIljEl5nzpIg0Us4mzlRgkQj4QLMuRJuJJ5JuAxzBQl3EgmlBIlXJRxiribhqsxvlyDRSzjKfIAEiUbCG8xnSLiReCbhbeaTJNxJJPwo86kSfpqZmpmamZqZmpmamZqZmpnaH9mlXIiFtKjvAAAAAElFTkSuQmCC\">"
      ],
      "text/plain": [
       "100×100 Array{RGB{Float64},2} with eltype RGB{Float64}:\n",
       " RGB{Float64}(1.0,1.0,1.0)  …  RGB{Float64}(1.0,1.0,1.0)\n",
       " RGB{Float64}(1.0,1.0,1.0)     RGB{Float64}(1.0,1.0,1.0)\n",
       " RGB{Float64}(1.0,1.0,1.0)     RGB{Float64}(1.0,1.0,1.0)\n",
       " RGB{Float64}(1.0,1.0,1.0)     RGB{Float64}(1.0,1.0,1.0)\n",
       " RGB{Float64}(1.0,1.0,1.0)     RGB{Float64}(1.0,1.0,1.0)\n",
       " RGB{Float64}(1.0,1.0,1.0)  …  RGB{Float64}(1.0,1.0,1.0)\n",
       " RGB{Float64}(1.0,1.0,1.0)     RGB{Float64}(1.0,1.0,1.0)\n",
       " RGB{Float64}(1.0,1.0,1.0)     RGB{Float64}(1.0,1.0,1.0)\n",
       " RGB{Float64}(1.0,1.0,1.0)     RGB{Float64}(1.0,1.0,1.0)\n",
       " RGB{Float64}(1.0,1.0,1.0)     RGB{Float64}(1.0,1.0,1.0)\n",
       " RGB{Float64}(1.0,1.0,1.0)  …  RGB{Float64}(1.0,1.0,1.0)\n",
       " RGB{Float64}(1.0,1.0,1.0)     RGB{Float64}(1.0,1.0,1.0)\n",
       " RGB{Float64}(1.0,1.0,1.0)     RGB{Float64}(1.0,1.0,1.0)\n",
       " ⋮                          ⋱  \n",
       " RGB{Float64}(1.0,1.0,1.0)     RGB{Float64}(1.0,1.0,1.0)\n",
       " RGB{Float64}(1.0,1.0,1.0)     RGB{Float64}(1.0,1.0,1.0)\n",
       " RGB{Float64}(1.0,1.0,1.0)  …  RGB{Float64}(1.0,1.0,1.0)\n",
       " RGB{Float64}(1.0,1.0,1.0)     RGB{Float64}(1.0,1.0,1.0)\n",
       " RGB{Float64}(1.0,1.0,1.0)     RGB{Float64}(1.0,1.0,1.0)\n",
       " RGB{Float64}(1.0,1.0,1.0)     RGB{Float64}(1.0,1.0,1.0)\n",
       " RGB{Float64}(1.0,1.0,1.0)     RGB{Float64}(1.0,1.0,1.0)\n",
       " RGB{Float64}(1.0,1.0,1.0)  …  RGB{Float64}(1.0,1.0,1.0)\n",
       " RGB{Float64}(1.0,1.0,1.0)     RGB{Float64}(1.0,1.0,1.0)\n",
       " RGB{Float64}(1.0,1.0,1.0)     RGB{Float64}(1.0,1.0,1.0)\n",
       " RGB{Float64}(1.0,1.0,1.0)     RGB{Float64}(1.0,1.0,1.0)\n",
       " RGB{Float64}(1.0,1.0,1.0)     RGB{Float64}(1.0,1.0,1.0)"
      ]
     },
     "execution_count": 137,
     "metadata": {},
     "output_type": "execute_result"
    }
   ],
   "source": [
    "to_display_img(obs)"
   ]
  },
  {
   "cell_type": "code",
   "execution_count": 138,
   "id": "277de9df-7cc5-4f37-a219-9a296de52432",
   "metadata": {},
   "outputs": [
    {
     "data": {
      "image/png": "[encoded data removed]",
      "text/html": [
       "<img src=\"data:image/png;base64,iVBORw0KGgoAAAANSUhEUgAAAGQAAABkCAIAAAD/gAIDAAAABGdBTUEAALGPC/xhBQAAAAFzUkdCAK7OHOkAAAAgY0hSTQAAeiYAAICEAAD6AAAAgOgAAHUwAADqYAAAOpgAABdwnLpRPAAAAVFJREFUeAHtwVFOW1EQRMEz0tn/lid8ISQCadu6zjN0lbtLZaRiUjGpmFRMKiYVk4pJxaRiUjGpmFRMKiYVk4pJxaRi8kMNw7eW5UZSMamYVEx+kx0+GD7b5WtSMamYVEwqJhWTiskPtSx/MTxAKiYVk4rJr7LLA6RiUjGpmFRMKiYVk4pJxaRiUjGpmFRMKiYVk4pJxaRiUjGpmFRMKiYVk4pJxaRiUjGpmFRMKiYVk4pJxaRiUjGpmFRMKiYVk4rJK5phl6eTVzHDRzO82+Up5Ppm+N4Mb3Y5TC5uhtAMu5wkVzbDTWbY5RipmFzWDHeYYZczpGJSMamYXNMMd5thlwPkmnaZ4T67nCEVk4pJxeSydpnhVrscIxWTK9tlhtwuJ8n9hn9YHrfLDIldDpPr2+XNDF/Z5SnkVezyboZdnk5e0S7/g1RMKiYVk4pJxf4A2Ys2iEDVid0AAAAASUVORK5C\">"
      ],
      "text/plain": [
       "100×100 Array{RGB{Float64},2} with eltype RGB{Float64}:\n",
       " RGB{Float64}(1.0,1.0,1.0)  …  RGB{Float64}(1.0,1.0,1.0)\n",
       " RGB{Float64}(1.0,1.0,1.0)     RGB{Float64}(1.0,1.0,1.0)\n",
       " RGB{Float64}(1.0,1.0,1.0)     RGB{Float64}(1.0,1.0,1.0)\n",
       " RGB{Float64}(1.0,1.0,1.0)     RGB{Float64}(1.0,1.0,1.0)\n",
       " RGB{Float64}(1.0,1.0,1.0)     RGB{Float64}(1.0,1.0,1.0)\n",
       " RGB{Float64}(1.0,1.0,1.0)  …  RGB{Float64}(1.0,1.0,1.0)\n",
       " RGB{Float64}(1.0,1.0,1.0)     RGB{Float64}(1.0,1.0,1.0)\n",
       " RGB{Float64}(1.0,1.0,1.0)     RGB{Float64}(1.0,1.0,1.0)\n",
       " RGB{Float64}(1.0,1.0,1.0)     RGB{Float64}(1.0,1.0,1.0)\n",
       " RGB{Float64}(1.0,1.0,1.0)     RGB{Float64}(1.0,1.0,1.0)\n",
       " RGB{Float64}(1.0,1.0,1.0)  …  RGB{Float64}(1.0,1.0,1.0)\n",
       " RGB{Float64}(1.0,1.0,1.0)     RGB{Float64}(1.0,1.0,1.0)\n",
       " RGB{Float64}(1.0,1.0,1.0)     RGB{Float64}(1.0,1.0,1.0)\n",
       " ⋮                          ⋱  \n",
       " RGB{Float64}(1.0,1.0,1.0)     RGB{Float64}(1.0,1.0,1.0)\n",
       " RGB{Float64}(1.0,1.0,1.0)     RGB{Float64}(1.0,1.0,1.0)\n",
       " RGB{Float64}(1.0,1.0,1.0)  …  RGB{Float64}(1.0,1.0,1.0)\n",
       " RGB{Float64}(1.0,1.0,1.0)     RGB{Float64}(1.0,1.0,1.0)\n",
       " RGB{Float64}(1.0,1.0,1.0)     RGB{Float64}(1.0,1.0,1.0)\n",
       " RGB{Float64}(1.0,1.0,1.0)     RGB{Float64}(1.0,1.0,1.0)\n",
       " RGB{Float64}(1.0,1.0,1.0)     RGB{Float64}(1.0,1.0,1.0)\n",
       " RGB{Float64}(1.0,1.0,1.0)  …  RGB{Float64}(1.0,1.0,1.0)\n",
       " RGB{Float64}(1.0,1.0,1.0)     RGB{Float64}(1.0,1.0,1.0)\n",
       " RGB{Float64}(1.0,1.0,1.0)     RGB{Float64}(1.0,1.0,1.0)\n",
       " RGB{Float64}(1.0,1.0,1.0)     RGB{Float64}(1.0,1.0,1.0)\n",
       " RGB{Float64}(1.0,1.0,1.0)     RGB{Float64}(1.0,1.0,1.0)"
      ]
     },
     "execution_count": 138,
     "metadata": {},
     "output_type": "execute_result"
    }
   ],
   "source": [
    "to_display_img(render(trace[:latents]))"
   ]
  },
  {
   "cell_type": "code",
   "execution_count": 139,
   "id": "f86083a1-2034-42c8-b127-a1cd3d808968",
   "metadata": {},
   "outputs": [
    {
     "data": {
      "text/plain": [
       "Gen.DynamicDSLTrace{DynamicDSLFunction{Any}}(DynamicDSLFunction{Any}(Dict{Symbol, Any}(), Dict{Symbol, Any}(), Type[], false, Union{Nothing, Some{Any}}[], var\"##render_model#306\", Bool[], false), Trie{Any, Gen.ChoiceOrCallRecord}(Dict{Any, Gen.ChoiceOrCallRecord}(:latents => Gen.ChoiceOrCallRecord{Gen.DynamicDSLTrace{DynamicDSLFunction{Any}}}(Gen.DynamicDSLTrace{DynamicDSLFunction{Any}}(DynamicDSLFunction{Any}(Dict{Symbol, Any}(), Dict{Symbol, Any}(), Type[], false, Union{Nothing, Some{Any}}[], var\"##scene#305\", Bool[], false), Trie{Any, Gen.ChoiceOrCallRecord}(Dict{Any, Gen.ChoiceOrCallRecord}((:x, 2) => Gen.ChoiceOrCallRecord{Int64}(61, -4.605170185988091, NaN, true), (:y, 3) => Gen.ChoiceOrCallRecord{Int64}(97, -4.605170185988091, NaN, true), (:color, 2) => Gen.ChoiceOrCallRecord{Int64}(1, -1.0986122886681098, NaN, true), (:y, 1) => Gen.ChoiceOrCallRecord{Int64}(24, -4.605170185988091, NaN, true), (:shape, 2) => Gen.ChoiceOrCallRecord{Int64}(2, -1.0986122886681098, NaN, true), (:x, 3) => Gen.ChoiceOrCallRecord{Int64}(25, -4.605170185988091, NaN, true), (:x, 4) => Gen.ChoiceOrCallRecord{Int64}(85, -4.605170185988091, NaN, true), (:color, 3) => Gen.ChoiceOrCallRecord{Int64}(2, -1.0986122886681098, NaN, true), :n_objects => Gen.ChoiceOrCallRecord{Int64}(3, -1.4959226032237258, NaN, true), (:shape, 1) => Gen.ChoiceOrCallRecord{Int64}(1, -1.0986122886681098, NaN, true)…), Dict{Any, Trie{Any, Gen.ChoiceOrCallRecord}}()), false, -47.12618240047333, 0.0, (), Any[(\"square\", \"green\", (78, 24)), (\"circle\", \"red\", (61, 84)), (\"star\", \"yellow\", (25, 97)), (\"star\", \"red\", (85, 28))]), -47.12618240047333, 0.0, false), :obs => Gen.ChoiceOrCallRecord{Matrix{Tuple{Float64, Float64, Float64}}}([(1.0, 1.0, 1.0) (1.0, 1.0, 1.0) … (1.0, 1.0, 1.0) (1.0, 1.0, 1.0); (1.0, 1.0, 1.0) (1.0, 1.0, 1.0) … (1.0, 1.0, 1.0) (1.0, 1.0, 1.0); … ; (1.0, 1.0, 1.0) (1.0, 1.0, 1.0) … (1.0, 1.0, 1.0) (1.0, 1.0, 1.0); (1.0, 1.0, 1.0) (1.0, 1.0, 1.0) … (1.0, 1.0, 1.0) (1.0, 1.0, 1.0)], -1.49695992900741, NaN, true)), Dict{Any, Trie{Any, Gen.ChoiceOrCallRecord}}()), false, -48.62314232948074, 0.0, (), nothing)"
      ]
     },
     "execution_count": 139,
     "metadata": {},
     "output_type": "execute_result"
    }
   ],
   "source": [
    "trace"
   ]
  },
  {
   "cell_type": "code",
   "execution_count": 140,
   "id": "81f40b43-5f1d-4898-9b10-f07a0e3673bc",
   "metadata": {},
   "outputs": [
    {
     "data": {
      "text/plain": [
       "-2.4469773242317405"
      ]
     },
     "execution_count": 140,
     "metadata": {},
     "output_type": "execute_result"
    }
   ],
   "source": [
    "weight"
   ]
  }
 ],
 "metadata": {
  "kernelspec": {
   "display_name": "Julia 1.9.4",
   "language": "julia",
   "name": "julia-1.9"
  },
  "language_info": {
   "file_extension": ".jl",
   "mimetype": "application/julia",
   "name": "julia",
   "version": "1.9.4"
  }
 },
 "nbformat": 4,
 "nbformat_minor": 5
}
