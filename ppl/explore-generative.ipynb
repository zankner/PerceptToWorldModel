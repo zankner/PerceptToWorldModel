{
 "cells": [
  {
   "cell_type": "code",
   "execution_count": 1,
   "id": "cea4e713-0b95-444a-a57f-5c64a25aee0e",
   "metadata": {},
   "outputs": [],
   "source": [
    "using Gen, Plots, Images, Colors"
   ]
  },
  {
   "cell_type": "code",
   "execution_count": 64,
   "id": "9afc83ac-88a4-453b-b28e-264499fbc127",
   "metadata": {},
   "outputs": [],
   "source": [
    "# Global vars\n",
    "IMG_SIZE = 100;"
   ]
  },
  {
   "cell_type": "markdown",
   "id": "571f85c3-0579-4ca0-b64c-17f737fb2b47",
   "metadata": {},
   "source": [
    "## Rendering of a scene"
   ]
  },
  {
   "cell_type": "code",
   "execution_count": 65,
   "id": "53535bd6-99d6-453b-9134-eda7b9e05382",
   "metadata": {},
   "outputs": [
    {
     "data": {
      "text/plain": [
       "Dict{String, Function} with 3 entries:\n",
       "  \"circle\" => draw_circle!\n",
       "  \"star\"   => draw_square!\n",
       "  \"square\" => draw_square!"
      ]
     },
     "execution_count": 65,
     "metadata": {},
     "output_type": "execute_result"
    }
   ],
   "source": [
    "# Drawing utilities\n",
    "\n",
    "# colors\n",
    "color_map = Dict(\"red\" => [1.0, 0.0, 0.0], \"yellow\" => [1.0, 1.0, 0.0], \"green\" => [0.0, 1.0, 0.0])\n",
    "\n",
    "# shapes\n",
    "function draw_square!(img, center, size, color)\n",
    "    x, y = center\n",
    "    half_size = size ÷ 2\n",
    "    for dx in -half_size:half_size, dy in -half_size:half_size\n",
    "        nx, ny = x + dx, y + dy\n",
    "        if 1 <= nx <= IMG_SIZE && 1 <= ny <= IMG_SIZE\n",
    "            img[ny, nx] = color\n",
    "        end\n",
    "    end\n",
    "end\n",
    "\n",
    "# Function to draw a circle\n",
    "function draw_circle!(img, center, radius, color)\n",
    "    x, y = center\n",
    "    for dx in -radius:radius, dy in -radius:radius\n",
    "        if dx^2 + dy^2 <= radius^2\n",
    "            nx, ny = x + dx, y + dy\n",
    "            if 1 <= nx <= IMG_SIZE && 1 <= ny <= IMG_SIZE\n",
    "                img[ny, nx] = color\n",
    "            end\n",
    "        end\n",
    "    end\n",
    "end\n",
    "\n",
    "shape_map = Dict(\"square\" => draw_square!, \"circle\" => draw_circle!, \"star\" => draw_square!)"
   ]
  },
  {
   "cell_type": "code",
   "execution_count": 233,
   "id": "ba939a3e-23ef-4150-ba7b-de36018dda1a",
   "metadata": {},
   "outputs": [
    {
     "data": {
      "text/plain": [
       "render_trace (generic function with 2 methods)"
      ]
     },
     "execution_count": 233,
     "metadata": {},
     "output_type": "execute_result"
    }
   ],
   "source": [
    "function to_display_img(img_matrix)\n",
    "    return [RGB(img_matrix[i, j]...) for i in 1:IMG_SIZE, j in 1:IMG_SIZE]\n",
    "end\n",
    "\n",
    "function render(objects, show_img=false)\n",
    "    img = fill([1.0,1.0,1.0], IMG_SIZE, IMG_SIZE)\n",
    "    for (shape, color, center) in objects\n",
    "        shape_map[shape](img, center, 10, color_map[color])\n",
    "    end\n",
    "    if show_img\n",
    "        display(to_display_img(img))\n",
    "    end\n",
    "    return img\n",
    "    end\n",
    "\n",
    "function render_trace(trace, show_img=false)\n",
    "    objects = get_retval(trace)\n",
    "    return render(objects, show_img)\n",
    "    end"
   ]
  },
  {
   "cell_type": "markdown",
   "id": "c71f7f45-5ff4-4db7-9a60-3a5efe712794",
   "metadata": {},
   "source": [
    "## Generative model for a scene"
   ]
  },
  {
   "cell_type": "code",
   "execution_count": 67,
   "id": "8c805c90-8d38-4cd4-ac03-bd4e808ce73f",
   "metadata": {},
   "outputs": [
    {
     "data": {
      "text/plain": [
       "DynamicDSLFunction{Any}(Dict{Symbol, Any}(), Dict{Symbol, Any}(), Type[], false, Union{Nothing, Some{Any}}[], var\"##scene#294\", Bool[], false)"
      ]
     },
     "execution_count": 67,
     "metadata": {},
     "output_type": "execute_result"
    }
   ],
   "source": [
    "# See if should be static compiled for inference efficiency\n",
    "@gen function scene()\n",
    "    # Defining how many objects are in the scene\n",
    "    n_objects ~ poisson(3)\n",
    "    n_objects += 1 # Making sure at least 1 object\n",
    "\n",
    "    shape_universe = [\"square\", \"circle\", \"star\"]\n",
    "    color_universe = [\"red\", \"yellow\", \"green\"]\n",
    "\n",
    "    # Should probably make this a passed in param\n",
    "    \n",
    "    objects = []\n",
    "    for i = 1:n_objects\n",
    "\n",
    "        shape_idx = {(:shape, i)} ~ uniform_discrete(1,3)\n",
    "        shape = shape_universe[shape_idx]\n",
    "\n",
    "        color_idx = {(:color, i)} ~ uniform_discrete(1,3)\n",
    "        color = color_universe[color_idx]\n",
    "\n",
    "        x = {(:x, i)} ~ uniform_discrete(1, IMG_SIZE)\n",
    "        y = {(:y, i)} ~ uniform_discrete(1, IMG_SIZE)\n",
    "        \n",
    "        push!(objects, (shape, color, (x, y)))\n",
    "    end\n",
    "    \n",
    "    return objects\n",
    "end"
   ]
  },
  {
   "cell_type": "code",
   "execution_count": 68,
   "id": "c428f1ae-5d3a-4608-b807-5639f7be15da",
   "metadata": {},
   "outputs": [
    {
     "data": {
      "text/plain": [
       "DynamicDSLFunction{Any}(Dict{Symbol, Any}(), Dict{Symbol, Any}(), Type[], false, Union{Nothing, Some{Any}}[], var\"##render_model#295\", Bool[], false)"
      ]
     },
     "execution_count": 68,
     "metadata": {},
     "output_type": "execute_result"
    }
   ],
   "source": [
    "# Generative for scoring\n",
    "@gen function render_model()\n",
    "    latents ~ scene()\n",
    "    x = render(latents)\n",
    "    obs ~ obs_mixture(x)\n",
    "    return nothing\n",
    "end"
   ]
  },
  {
   "cell_type": "code",
   "execution_count": 7,
   "id": "35bbbaa1-5548-4232-87e9-bfe4d301a8bb",
   "metadata": {},
   "outputs": [
    {
     "data": {
      "image/png": "[encoded data removed]",
      "text/html": [
       "<img src=\"data:image/png;base64,iVBORw0KGgoAAAANSUhEUgAAAGQAAABkCAIAAAD/gAIDAAAABGdBTUEAALGPC/xhBQAAAAFzUkdCAK7OHOkAAAAgY0hSTQAAeiYAAICEAAD6AAAAgOgAAHUwAADqYAAAOpgAABdwnLpRPAAAAXlJREFUeAHtwQtqGwEAQ8En0P2vrH6ocUNiWwmss8GacRKmY6ZmpmamZqZmpmamZqZmpmamZqZmpma+iVAIP4p5IiH+I8RFCKdnnkKIu4SAEE7MHE+IjlAIZ2UOJsRnCIVwSmZq5khCfJ5QCAcSD4SPmKmZqZmpmcMI8VVCIZyMOUyIEF8SwvmYqZmpmamZI4UI8UkhnJKZmjlYiBC1EA4XvsQcL0SIQggnZp4iBBDihhBOzzxRCBdCIfwo5puE8NOYqZmpmamZd4S4K4SXZKZmpmamZqZmpmamZqZmpmamZqZm3glhPmKmZqZmpmamZqZmHpK4L+E1mKmZqZkrQZjbDOJKXIV5y9wk/ghzYR4Qc2EeCoj5zUzNNAJizNRMKeHlmamZliC8NtMKL89MzUzNTM1UwoCZmnkszF/mgTAX5qYwbxnCP4Iwt5mrMHeZqZmpmamZqZmpmamZqZmpmamZqZmpmamZqZmpmamZqZmpmamZqZmpman9AsE+RIKghv9sAAAAAElFTkSuQmCC\">"
      ],
      "text/plain": [
       "100×100 Array{RGB{Float64},2} with eltype RGB{Float64}:\n",
       " RGB{Float64}(1.0,1.0,1.0)  …  RGB{Float64}(1.0,1.0,1.0)\n",
       " RGB{Float64}(1.0,1.0,1.0)     RGB{Float64}(1.0,1.0,1.0)\n",
       " RGB{Float64}(1.0,1.0,1.0)     RGB{Float64}(1.0,1.0,1.0)\n",
       " RGB{Float64}(1.0,1.0,1.0)     RGB{Float64}(1.0,1.0,1.0)\n",
       " RGB{Float64}(1.0,1.0,1.0)     RGB{Float64}(1.0,1.0,1.0)\n",
       " RGB{Float64}(1.0,1.0,1.0)  …  RGB{Float64}(1.0,1.0,1.0)\n",
       " RGB{Float64}(1.0,1.0,1.0)     RGB{Float64}(1.0,1.0,1.0)\n",
       " RGB{Float64}(1.0,1.0,1.0)     RGB{Float64}(1.0,1.0,1.0)\n",
       " RGB{Float64}(1.0,1.0,1.0)     RGB{Float64}(1.0,1.0,1.0)\n",
       " RGB{Float64}(1.0,1.0,1.0)     RGB{Float64}(1.0,1.0,1.0)\n",
       " RGB{Float64}(1.0,1.0,1.0)  …  RGB{Float64}(1.0,1.0,1.0)\n",
       " RGB{Float64}(1.0,1.0,1.0)     RGB{Float64}(1.0,1.0,1.0)\n",
       " RGB{Float64}(1.0,1.0,1.0)     RGB{Float64}(1.0,1.0,1.0)\n",
       " ⋮                          ⋱  \n",
       " RGB{Float64}(1.0,1.0,1.0)     RGB{Float64}(1.0,1.0,1.0)\n",
       " RGB{Float64}(1.0,1.0,1.0)     RGB{Float64}(1.0,1.0,1.0)\n",
       " RGB{Float64}(1.0,1.0,1.0)  …  RGB{Float64}(1.0,1.0,1.0)\n",
       " RGB{Float64}(1.0,1.0,1.0)     RGB{Float64}(1.0,1.0,1.0)\n",
       " RGB{Float64}(1.0,1.0,1.0)     RGB{Float64}(1.0,1.0,1.0)\n",
       " RGB{Float64}(1.0,1.0,1.0)     RGB{Float64}(1.0,1.0,1.0)\n",
       " RGB{Float64}(1.0,1.0,1.0)     RGB{Float64}(1.0,1.0,1.0)\n",
       " RGB{Float64}(1.0,1.0,1.0)  …  RGB{Float64}(1.0,1.0,1.0)\n",
       " RGB{Float64}(1.0,1.0,1.0)     RGB{Float64}(1.0,1.0,1.0)\n",
       " RGB{Float64}(1.0,1.0,1.0)     RGB{Float64}(1.0,1.0,1.0)\n",
       " RGB{Float64}(1.0,1.0,1.0)     RGB{Float64}(1.0,1.0,1.0)\n",
       " RGB{Float64}(1.0,1.0,1.0)     RGB{Float64}(1.0,1.0,1.0)"
      ]
     },
     "metadata": {},
     "output_type": "display_data"
    }
   ],
   "source": [
    "# Example usage\n",
    "render_trace(Gen.simulate(scene, ()), true);"
   ]
  },
  {
   "cell_type": "code",
   "execution_count": 8,
   "id": "a5ca1422-7f57-49ed-84e6-0425debac150",
   "metadata": {},
   "outputs": [
    {
     "data": {
      "text/plain": [
       "100×100 Matrix{Vector{Float64}}:\n",
       " [1.0, 1.0, 1.0]  [1.0, 1.0, 1.0]  …  [1.0, 1.0, 1.0]  [1.0, 1.0, 1.0]\n",
       " [1.0, 1.0, 1.0]  [1.0, 1.0, 1.0]     [1.0, 1.0, 1.0]  [1.0, 1.0, 1.0]\n",
       " [1.0, 1.0, 1.0]  [1.0, 1.0, 1.0]     [1.0, 1.0, 1.0]  [1.0, 1.0, 1.0]\n",
       " [1.0, 1.0, 1.0]  [1.0, 1.0, 1.0]     [1.0, 1.0, 1.0]  [1.0, 1.0, 1.0]\n",
       " [1.0, 1.0, 1.0]  [1.0, 1.0, 1.0]     [1.0, 1.0, 1.0]  [1.0, 1.0, 1.0]\n",
       " [1.0, 1.0, 1.0]  [1.0, 1.0, 1.0]  …  [1.0, 1.0, 1.0]  [1.0, 1.0, 1.0]\n",
       " [1.0, 1.0, 1.0]  [1.0, 1.0, 1.0]     [1.0, 1.0, 1.0]  [1.0, 1.0, 1.0]\n",
       " [1.0, 1.0, 1.0]  [1.0, 1.0, 1.0]     [1.0, 1.0, 1.0]  [1.0, 1.0, 1.0]\n",
       " [1.0, 1.0, 1.0]  [1.0, 1.0, 1.0]     [1.0, 1.0, 1.0]  [1.0, 1.0, 1.0]\n",
       " [1.0, 1.0, 1.0]  [1.0, 1.0, 1.0]     [1.0, 1.0, 1.0]  [1.0, 1.0, 1.0]\n",
       " [1.0, 1.0, 1.0]  [1.0, 1.0, 1.0]  …  [1.0, 1.0, 1.0]  [1.0, 1.0, 1.0]\n",
       " [1.0, 1.0, 1.0]  [1.0, 1.0, 1.0]     [1.0, 1.0, 1.0]  [1.0, 1.0, 1.0]\n",
       " [1.0, 1.0, 1.0]  [1.0, 1.0, 1.0]     [1.0, 1.0, 1.0]  [1.0, 1.0, 1.0]\n",
       " ⋮                                 ⋱                   \n",
       " [1.0, 1.0, 1.0]  [1.0, 1.0, 1.0]     [1.0, 1.0, 1.0]  [1.0, 1.0, 1.0]\n",
       " [1.0, 1.0, 1.0]  [1.0, 1.0, 1.0]     [1.0, 1.0, 1.0]  [1.0, 1.0, 1.0]\n",
       " [1.0, 1.0, 1.0]  [1.0, 1.0, 1.0]  …  [1.0, 1.0, 1.0]  [1.0, 1.0, 1.0]\n",
       " [1.0, 1.0, 1.0]  [1.0, 1.0, 1.0]     [1.0, 1.0, 1.0]  [1.0, 1.0, 1.0]\n",
       " [1.0, 1.0, 1.0]  [1.0, 1.0, 1.0]     [1.0, 1.0, 1.0]  [1.0, 1.0, 1.0]\n",
       " [1.0, 1.0, 1.0]  [1.0, 1.0, 1.0]     [1.0, 1.0, 1.0]  [1.0, 1.0, 1.0]\n",
       " [1.0, 1.0, 1.0]  [1.0, 1.0, 1.0]     [1.0, 1.0, 1.0]  [1.0, 1.0, 1.0]\n",
       " [1.0, 1.0, 1.0]  [1.0, 1.0, 1.0]  …  [1.0, 1.0, 1.0]  [1.0, 1.0, 1.0]\n",
       " [1.0, 1.0, 1.0]  [1.0, 1.0, 1.0]     [1.0, 1.0, 1.0]  [1.0, 1.0, 1.0]\n",
       " [1.0, 1.0, 1.0]  [1.0, 1.0, 1.0]     [1.0, 1.0, 1.0]  [1.0, 1.0, 1.0]\n",
       " [1.0, 1.0, 1.0]  [1.0, 1.0, 1.0]     [1.0, 1.0, 1.0]  [1.0, 1.0, 1.0]\n",
       " [1.0, 1.0, 1.0]  [1.0, 1.0, 1.0]     [1.0, 1.0, 1.0]  [1.0, 1.0, 1.0]"
      ]
     },
     "execution_count": 8,
     "metadata": {},
     "output_type": "execute_result"
    }
   ],
   "source": [
    "foo = render(scene())"
   ]
  },
  {
   "cell_type": "markdown",
   "id": "8e1d62b9-a8bf-4bf2-81ab-3efd38dcc901",
   "metadata": {},
   "source": [
    "## Scoring sampled scenes"
   ]
  },
  {
   "cell_type": "code",
   "execution_count": 276,
   "id": "97183934-b02d-4fe0-b682-fc23fedfaad7",
   "metadata": {},
   "outputs": [],
   "source": [
    "# Image observation distribution\n",
    "struct ObservationMixture <: Distribution{Matrix{Vector{Float64}}} end\n",
    "\n",
    "function Gen.random(::ObservationMixture, X::Matrix{Vector{Float64}})\n",
    "    # Throw an error since just a scoring fn\n",
    "    return X\n",
    "end\n",
    "\n",
    "function Gen.logpdf(::ObservationMixture,\n",
    "        Y::Matrix{Vector{Float64}},\n",
    "        X::Matrix{Vector{Float64}})\n",
    "\n",
    "    blank = fill([1.0,1.0,1.0], size(X))\n",
    "    input_non_background_mask = .!(X .== blank)\n",
    "\n",
    "    obs_non_background = Y[input_non_background_mask]\n",
    "    input_non_background = X[input_non_background_mask]\n",
    "    # Should also check the color, currently just checking if pixel thats non-white\n",
    "    # Should also fix so non just normalizing based on the input -- problem is input is a subset of the full thing\n",
    "    intersection = sum(obs_non_background .== input_non_background)\n",
    "    normalizer = sum(input_non_background_mask)\n",
    "    return log(intersection) - log(normalizer)\n",
    "end\n",
    "\n",
    "(o::ObservationMixture)(arg) = Gen.random(o, arg)\n",
    "# (o::ObservationMixture).logpdf(args...) = Gen.logpdf(o, args)"
   ]
  },
  {
   "cell_type": "code",
   "execution_count": 286,
   "id": "834fa5af-843c-4b6d-a913-beb7a57f0464",
   "metadata": {},
   "outputs": [
    {
     "name": "stdout",
     "output_type": "stream",
     "text": [
      "Sanity checking score fn: 1.0"
     ]
    }
   ],
   "source": [
    "obs_mixture = ObservationMixture()\n",
    "foo = render(scene())\n",
    "foo2 = render(scene())\n",
    "_ = obs_mixture(foo)\n",
    "print(\"Sanity checking score fn: \", exp(logpdf(obs_mixture, foo, foo)))"
   ]
  },
  {
   "cell_type": "markdown",
   "id": "ae953162-c530-4c30-9b6f-61a2b23339eb",
   "metadata": {},
   "source": [
    "## Inference procedure"
   ]
  },
  {
   "cell_type": "code",
   "execution_count": 287,
   "id": "f48ab244-b796-4050-a739-3b43b5b53f03",
   "metadata": {},
   "outputs": [
    {
     "data": {
      "text/plain": [
       "render_samples (generic function with 1 method)"
      ]
     },
     "execution_count": 287,
     "metadata": {},
     "output_type": "execute_result"
    }
   ],
   "source": [
    "# Inference display utils\n",
    "function render_samples(traces, log_weights)\n",
    "    normalized_log_weights = log_weights .- logsumexp(log_weights)\n",
    "    sample_weights = exp.(normalized_log_weights)\n",
    "    cum_sampled_scene = render(traces[1][:latents]) * sample_weights[1]\n",
    "    for i=2:length(traces)\n",
    "        sampled_scene = render(traces[i][:latents]) * sample_weights[i]\n",
    "        cum_sampled_scene += sampled_scene\n",
    "    end\n",
    "    return cum_sampled_scene\n",
    "end"
   ]
  },
  {
   "cell_type": "code",
   "execution_count": 288,
   "id": "5aa90eb5-1cdb-4dce-a3d6-1e7773877af3",
   "metadata": {},
   "outputs": [],
   "source": [
    "# Example inference procedure\n",
    "function do_inference(model, constraints, num_iter)\n",
    "    \n",
    "    # # Create a choice map that maps model addresses (:y, i)\n",
    "    # # to observed values ys[i]. We leave :slope and :intercept\n",
    "    # # unconstrained, because we want them to be inferred.\n",
    "    # observations = Gen.choicemap()\n",
    "    # for (i, y) in enumerate(ys)\n",
    "    #     observations[(:y, i)] = y\n",
    "    # end\n",
    "    \n",
    "    # Call importance_resampling to obtain a likely trace consistent\n",
    "    # with our observations.\n",
    "    (traces, weights, _) = Gen.importance_sampling(model, (), constraints, num_iter);\n",
    "    return traces, weights\n",
    "end;"
   ]
  },
  {
   "cell_type": "code",
   "execution_count": 289,
   "id": "bf839a73-9529-476c-a855-afd82a67afc2",
   "metadata": {},
   "outputs": [],
   "source": [
    "obs = render(scene());\n",
    "constraints = Gen.choicemap()\n",
    "constraints[:obs] = obs\n",
    "traces, weights = do_inference(render_model, constraints, 10000);"
   ]
  },
  {
   "cell_type": "code",
   "execution_count": 290,
   "id": "9c2ead6b-45ea-47ae-a1a4-bb49da4f02c2",
   "metadata": {},
   "outputs": [
    {
     "data": {
      "image/png": "[encoded data removed]",
      "text/html": [
       "<img src=\"data:image/png;base64,iVBORw0KGgoAAAANSUhEUgAAAGQAAABkCAIAAAD/gAIDAAAABGdBTUEAALGPC/xhBQAAAAFzUkdCAK7OHOkAAAAgY0hSTQAAeiYAAICEAAD6AAAAgOgAAHUwAADqYAAAOpgAABdwnLpRPAAAAUxJREFUeAHtwVFOHFEQBMFsKe9/5bb4Qsh4qV3QzLNdEe4u9dEwfEYqJhWTiknFpGJSv1mWz0jFpGJSMamYnG0YHlqWq8jzhuGhZfkXScWkYlIxqZhUTComFZOKScXkbMtyDHnesvyXpGJSMamYVEwqJhWTk83w2C4XkopJxaRiUjGpmFRMKiYVk4rJzxu+sPyd5GS7nEQqJhWTiknFpGJSMamYVEyONrAcQ37e8i3DB8O75VZykOELw5vlJnKKITWw3EGOMDxnYLmcVEzuN7xiYLmWVEwqJhWTmw2vG1guJDdbGF60XEsqJhWTisn9FoanLZeTiskRFoYnLHeQUywMkeUmcpDlzfBHy63kOMu7geUYcrTlJFIxqZhUTComFZOKScWkYlIxqZhUTComFZOKScWkYlIxqZhUTComFZOKScWkYlIxqZhUTCr2C2gRKIbtzyJhAAAAAElFTkSuQmCC\">"
      ],
      "text/plain": [
       "100×100 Array{RGB{Float64},2} with eltype RGB{Float64}:\n",
       " RGB{Float64}(1.0,1.0,1.0)  …  RGB{Float64}(0.0,1.0,0.0)\n",
       " RGB{Float64}(1.0,1.0,1.0)     RGB{Float64}(0.0,1.0,0.0)\n",
       " RGB{Float64}(1.0,1.0,1.0)     RGB{Float64}(0.0,1.0,0.0)\n",
       " RGB{Float64}(1.0,1.0,1.0)     RGB{Float64}(0.0,1.0,0.0)\n",
       " RGB{Float64}(1.0,1.0,1.0)     RGB{Float64}(0.0,1.0,0.0)\n",
       " RGB{Float64}(1.0,1.0,1.0)  …  RGB{Float64}(0.0,1.0,0.0)\n",
       " RGB{Float64}(1.0,1.0,1.0)     RGB{Float64}(1.0,1.0,1.0)\n",
       " RGB{Float64}(1.0,1.0,1.0)     RGB{Float64}(1.0,1.0,1.0)\n",
       " RGB{Float64}(1.0,1.0,1.0)     RGB{Float64}(1.0,1.0,1.0)\n",
       " RGB{Float64}(1.0,1.0,1.0)     RGB{Float64}(1.0,1.0,1.0)\n",
       " RGB{Float64}(1.0,1.0,1.0)  …  RGB{Float64}(1.0,1.0,1.0)\n",
       " RGB{Float64}(1.0,1.0,1.0)     RGB{Float64}(1.0,1.0,1.0)\n",
       " RGB{Float64}(1.0,1.0,1.0)     RGB{Float64}(1.0,1.0,1.0)\n",
       " ⋮                          ⋱  \n",
       " RGB{Float64}(1.0,1.0,1.0)     RGB{Float64}(1.0,1.0,1.0)\n",
       " RGB{Float64}(1.0,1.0,1.0)     RGB{Float64}(1.0,1.0,1.0)\n",
       " RGB{Float64}(1.0,1.0,1.0)  …  RGB{Float64}(1.0,1.0,1.0)\n",
       " RGB{Float64}(1.0,1.0,1.0)     RGB{Float64}(1.0,1.0,1.0)\n",
       " RGB{Float64}(1.0,1.0,1.0)     RGB{Float64}(1.0,1.0,1.0)\n",
       " RGB{Float64}(1.0,1.0,1.0)     RGB{Float64}(1.0,1.0,1.0)\n",
       " RGB{Float64}(1.0,1.0,1.0)     RGB{Float64}(1.0,1.0,1.0)\n",
       " RGB{Float64}(1.0,1.0,1.0)  …  RGB{Float64}(1.0,1.0,1.0)\n",
       " RGB{Float64}(1.0,1.0,1.0)     RGB{Float64}(1.0,1.0,1.0)\n",
       " RGB{Float64}(1.0,1.0,1.0)     RGB{Float64}(1.0,1.0,1.0)\n",
       " RGB{Float64}(1.0,1.0,1.0)     RGB{Float64}(1.0,1.0,1.0)\n",
       " RGB{Float64}(1.0,1.0,1.0)     RGB{Float64}(1.0,1.0,1.0)"
      ]
     },
     "execution_count": 290,
     "metadata": {},
     "output_type": "execute_result"
    }
   ],
   "source": [
    "to_display_img(obs)"
   ]
  },
  {
   "cell_type": "code",
   "execution_count": 291,
   "id": "becd3d5c-bbc9-4f64-a90a-21d0598a408f",
   "metadata": {},
   "outputs": [
    {
     "data": {
      "image/png": "[encoded data removed]",
      "text/html": [
       "<img src=\"data:image/png;base64,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\">"
      ],
      "text/plain": [
       "100×100 Array{RGB{Float64},2} with eltype RGB{Float64}:\n",
       " RGB{Float64}(0.993963,0.995346,0.98426)   …  RGB{Float64}(0.977359,0.993635,0.96571)\n",
       " RGB{Float64}(0.993127,0.994515,0.982291)     RGB{Float64}(0.972488,0.992959,0.959277)\n",
       " RGB{Float64}(0.992333,0.993297,0.980142)     RGB{Float64}(0.96798,0.992567,0.953243)\n",
       " RGB{Float64}(0.991472,0.992829,0.97808)      RGB{Float64}(0.966429,0.990518,0.949451)\n",
       " RGB{Float64}(0.990905,0.992415,0.976266)     RGB{Float64}(0.965769,0.9902,0.948099)\n",
       " RGB{Float64}(0.990551,0.991187,0.974334)  …  RGB{Float64}(0.964649,0.989977,0.946573)\n",
       " RGB{Float64}(0.990968,0.989701,0.974414)     RGB{Float64}(0.964042,0.992786,0.949308)\n",
       " RGB{Float64}(0.992321,0.989644,0.975303)     RGB{Float64}(0.964046,0.992825,0.949913)\n",
       " RGB{Float64}(0.992154,0.989412,0.974829)     RGB{Float64}(0.965377,0.992519,0.950166)\n",
       " RGB{Float64}(0.991842,0.991361,0.97624)      RGB{Float64}(0.967063,0.992489,0.951417)\n",
       " RGB{Float64}(0.991512,0.990736,0.974597)  …  RGB{Float64}(0.9693,0.992045,0.954072)\n",
       " RGB{Float64}(0.992089,0.991279,0.975585)     RGB{Float64}(0.974815,0.990829,0.958749)\n",
       " RGB{Float64}(0.992306,0.991299,0.974659)     RGB{Float64}(0.979783,0.989891,0.963399)\n",
       " ⋮                                         ⋱  \n",
       " RGB{Float64}(0.992613,0.991856,0.975018)     RGB{Float64}(0.991235,0.991802,0.971968)\n",
       " RGB{Float64}(0.992068,0.992126,0.975665)     RGB{Float64}(0.991311,0.991926,0.972131)\n",
       " RGB{Float64}(0.992664,0.992029,0.976883)  …  RGB{Float64}(0.990947,0.991704,0.970971)\n",
       " RGB{Float64}(0.990982,0.990252,0.974703)     RGB{Float64}(0.99137,0.991508,0.970775)\n",
       " RGB{Float64}(0.990769,0.989764,0.974872)     RGB{Float64}(0.991786,0.991077,0.971213)\n",
       " RGB{Float64}(0.990404,0.988797,0.973905)     RGB{Float64}(0.992415,0.991328,0.972368)\n",
       " RGB{Float64}(0.989493,0.990376,0.974843)     RGB{Float64}(0.992184,0.991468,0.97271)\n",
       " RGB{Float64}(0.991081,0.990392,0.976924)  …  RGB{Float64}(0.99274,0.991713,0.974719)\n",
       " RGB{Float64}(0.991549,0.991547,0.978915)     RGB{Float64}(0.992765,0.992422,0.977033)\n",
       " RGB{Float64}(0.992456,0.991547,0.979914)     RGB{Float64}(0.995196,0.992668,0.981017)\n",
       " RGB{Float64}(0.993203,0.991662,0.98112)      RGB{Float64}(0.995721,0.994067,0.982977)\n",
       " RGB{Float64}(0.993816,0.991662,0.982412)     RGB{Float64}(0.996908,0.995028,0.984978)"
      ]
     },
     "execution_count": 291,
     "metadata": {},
     "output_type": "execute_result"
    }
   ],
   "source": [
    "to_display_img(render_samples(traces, weights))"
   ]
  },
  {
   "cell_type": "markdown",
   "id": "29341ee9-0dd5-4984-a71b-2b90a73be27b",
   "metadata": {},
   "source": [
    "### Experimenting w/ constraints"
   ]
  },
  {
   "cell_type": "code",
   "execution_count": 298,
   "id": "ed791f67-7bf4-4bc0-b508-341a5ba8d745",
   "metadata": {},
   "outputs": [],
   "source": [
    "obs_trace = simulate(scene, ())\n",
    "obs = render_trace(obs_trace)\n",
    "obs_n_objects = obs_trace[:n_objects]\n",
    "\n",
    "constraints = Gen.choicemap()\n",
    "constraints[:obs] = obs\n",
    "constraints[:latents => :n_objects] = obs_n_objects\n",
    "traces, weights = do_inference(render_model, constraints, 10000);"
   ]
  },
  {
   "cell_type": "code",
   "execution_count": 299,
   "id": "d68d7ba8-ac9f-4b68-b341-fdffce7f8e8a",
   "metadata": {},
   "outputs": [
    {
     "data": {
      "image/png": "[encoded data removed]",
      "text/html": [
       "<img src=\"data:image/png;base64,iVBORw0KGgoAAAANSUhEUgAAAGQAAABkCAIAAAD/gAIDAAAABGdBTUEAALGPC/xhBQAAAAFzUkdCAK7OHOkAAAAgY0hSTQAAeiYAAICEAAD6AAAAgOgAAHUwAADqYAAAOpgAABdwnLpRPAAAAWJJREFUeAHtwdFqYlEAQ9EdyP//ckYolXZAjfbt3KzlJEzHTM1MzUzNTM1MzUzNTM1MzUzNTM1MzXxCvBBOZKZmpmamZqZmpmamZqZmpmamZqZmPhEuyUzNTM1MzUzNTM1ch0TCH5izSfwkcZfwJnMqieckbhJq5kgSJYmEjjmPxFskEgpmauYwEh+QSHjFTM1MzUzNnETiYxIJT5mTJEh8JuEVMzUzNTM1c5gEiXclFMzUzHkSJHoJHXOkBIlGQs2cKuFG4pGEN5mzJdxJJPyBuY6EvzFTM1MzUzNTM1MzUzOPSDyXcDFmamZqZmpmamZqZmpmamZqZmpmauaRhPnNTM1MzUzNTM1MzUzNTM1MzUzNTM1MzcwTEgnfzPxH4ieJb2buJJ4y80XiFTM3EgUzNTMSHTM1MzUzNXNxEjVzcQkSHTM1MzUzNTMJEgUzNTM3CRKvmPmSIPGUmbuEG4kH/gHxtz6XWULejAAAAABJRU5ErkJg\">"
      ],
      "text/plain": [
       "100×100 Array{RGB{Float64},2} with eltype RGB{Float64}:\n",
       " RGB{Float64}(1.0,1.0,1.0)  …  RGB{Float64}(1.0,1.0,1.0)\n",
       " RGB{Float64}(1.0,1.0,1.0)     RGB{Float64}(1.0,1.0,1.0)\n",
       " RGB{Float64}(1.0,1.0,1.0)     RGB{Float64}(1.0,1.0,1.0)\n",
       " RGB{Float64}(1.0,1.0,1.0)     RGB{Float64}(1.0,1.0,1.0)\n",
       " RGB{Float64}(1.0,1.0,1.0)     RGB{Float64}(1.0,1.0,1.0)\n",
       " RGB{Float64}(1.0,1.0,1.0)  …  RGB{Float64}(1.0,1.0,1.0)\n",
       " RGB{Float64}(1.0,1.0,1.0)     RGB{Float64}(1.0,1.0,1.0)\n",
       " RGB{Float64}(1.0,1.0,1.0)     RGB{Float64}(1.0,1.0,1.0)\n",
       " RGB{Float64}(1.0,1.0,1.0)     RGB{Float64}(1.0,1.0,1.0)\n",
       " RGB{Float64}(1.0,1.0,1.0)     RGB{Float64}(1.0,1.0,1.0)\n",
       " RGB{Float64}(1.0,1.0,1.0)  …  RGB{Float64}(1.0,1.0,1.0)\n",
       " RGB{Float64}(1.0,1.0,1.0)     RGB{Float64}(1.0,1.0,1.0)\n",
       " RGB{Float64}(1.0,1.0,1.0)     RGB{Float64}(1.0,1.0,1.0)\n",
       " ⋮                          ⋱  \n",
       " RGB{Float64}(1.0,1.0,1.0)     RGB{Float64}(1.0,0.0,0.0)\n",
       " RGB{Float64}(1.0,1.0,1.0)     RGB{Float64}(1.0,0.0,0.0)\n",
       " RGB{Float64}(1.0,1.0,1.0)  …  RGB{Float64}(1.0,0.0,0.0)\n",
       " RGB{Float64}(1.0,1.0,1.0)     RGB{Float64}(1.0,0.0,0.0)\n",
       " RGB{Float64}(1.0,1.0,1.0)     RGB{Float64}(1.0,0.0,0.0)\n",
       " RGB{Float64}(1.0,1.0,1.0)     RGB{Float64}(1.0,0.0,0.0)\n",
       " RGB{Float64}(1.0,1.0,1.0)     RGB{Float64}(1.0,0.0,0.0)\n",
       " RGB{Float64}(1.0,1.0,1.0)  …  RGB{Float64}(1.0,0.0,0.0)\n",
       " RGB{Float64}(1.0,1.0,1.0)     RGB{Float64}(1.0,0.0,0.0)\n",
       " RGB{Float64}(1.0,1.0,1.0)     RGB{Float64}(1.0,0.0,0.0)\n",
       " RGB{Float64}(1.0,1.0,1.0)     RGB{Float64}(1.0,0.0,0.0)\n",
       " RGB{Float64}(1.0,1.0,1.0)     RGB{Float64}(1.0,0.0,0.0)"
      ]
     },
     "execution_count": 299,
     "metadata": {},
     "output_type": "execute_result"
    }
   ],
   "source": [
    "to_display_img(obs)"
   ]
  },
  {
   "cell_type": "code",
   "execution_count": 300,
   "id": "8830d229-8c80-49bc-b8e5-18c3af9fa12d",
   "metadata": {},
   "outputs": [
    {
     "data": {
      "image/png": "[encoded data removed]",
      "text/html": [
       "<img src=\"data:image/png;base64,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\">"
      ],
      "text/plain": [
       "100×100 Array{RGB{Float64},2} with eltype RGB{Float64}:\n",
       " RGB{Float64}(0.995727,0.997319,0.983635)  …  RGB{Float64}(0.994825,0.993913,0.983144)\n",
       " RGB{Float64}(0.994984,0.996287,0.980896)     RGB{Float64}(0.993911,0.99319,0.98148)\n",
       " RGB{Float64}(0.994061,0.994778,0.977705)     RGB{Float64}(0.993035,0.991906,0.979245)\n",
       " RGB{Float64}(0.992266,0.994085,0.975152)     RGB{Float64}(0.993016,0.991366,0.977925)\n",
       " RGB{Float64}(0.992266,0.994051,0.975083)     RGB{Float64}(0.991951,0.990647,0.975098)\n",
       " RGB{Float64}(0.991456,0.994051,0.974856)  …  RGB{Float64}(0.991077,0.988891,0.972235)\n",
       " RGB{Float64}(0.990538,0.994051,0.974175)     RGB{Float64}(0.989675,0.989234,0.970931)\n",
       " RGB{Float64}(0.991032,0.993873,0.973681)     RGB{Float64}(0.989682,0.989041,0.970534)\n",
       " RGB{Float64}(0.990182,0.993201,0.973375)     RGB{Float64}(0.989532,0.987913,0.969994)\n",
       " RGB{Float64}(0.988641,0.99134,0.971169)      RGB{Float64}(0.989013,0.987592,0.969124)\n",
       " RGB{Float64}(0.988702,0.990978,0.971132)  …  RGB{Float64}(0.989628,0.988196,0.969601)\n",
       " RGB{Float64}(0.987373,0.989762,0.968636)     RGB{Float64}(0.989611,0.989049,0.971076)\n",
       " RGB{Float64}(0.985907,0.990134,0.968241)     RGB{Float64}(0.990695,0.988825,0.970139)\n",
       " ⋮                                         ⋱  \n",
       " RGB{Float64}(0.98785,0.988031,0.966836)      RGB{Float64}(0.992355,0.869062,0.853864)\n",
       " RGB{Float64}(0.988186,0.988073,0.967052)     RGB{Float64}(0.992132,0.8633,0.848093)\n",
       " RGB{Float64}(0.988838,0.988282,0.967739)  …  RGB{Float64}(0.99072,0.871383,0.853871)\n",
       " RGB{Float64}(0.9889,0.98813,0.966856)        RGB{Float64}(0.991317,0.870227,0.853075)\n",
       " RGB{Float64}(0.989718,0.989448,0.970091)     RGB{Float64}(0.991372,0.870837,0.855077)\n",
       " RGB{Float64}(0.990384,0.988321,0.969108)     RGB{Float64}(0.991548,0.872469,0.859127)\n",
       " RGB{Float64}(0.991916,0.989066,0.971388)     RGB{Float64}(0.992682,0.877912,0.86531)\n",
       " RGB{Float64}(0.992198,0.989479,0.972835)  …  RGB{Float64}(0.992957,0.890665,0.87877)\n",
       " RGB{Float64}(0.992603,0.990432,0.977484)     RGB{Float64}(0.993956,0.899382,0.888396)\n",
       " RGB{Float64}(0.993066,0.990837,0.978769)     RGB{Float64}(0.995258,0.915008,0.906711)\n",
       " RGB{Float64}(0.994811,0.991678,0.98152)      RGB{Float64}(0.995379,0.923716,0.91554)\n",
       " RGB{Float64}(0.995951,0.99394,0.985379)      RGB{Float64}(0.995591,0.937212,0.929316)"
      ]
     },
     "execution_count": 300,
     "metadata": {},
     "output_type": "execute_result"
    }
   ],
   "source": [
    "to_display_img(render_samples(traces, weights))"
   ]
  },
  {
   "cell_type": "markdown",
   "id": "ac985d3a-7202-4fb9-9a9f-da67e8d9cda6",
   "metadata": {},
   "source": [
    "## Particle Filtering"
   ]
  },
  {
   "cell_type": "code",
   "execution_count": null,
   "id": "17dd74ce-d1c2-4ca2-acd8-ec627326477a",
   "metadata": {},
   "outputs": [],
   "source": [
    "function particle_filter(num_particles::Int, constraints, num_samples::Int)\n",
    "    \n",
    "    # construct initial observations\n",
    "    init_obs = Gen.choicemap((:z0, zs[1]))\n",
    "    state = Gen.initialize_particle_filter(model, (0,), init_obs, num_particles)\n",
    "    \n",
    "    # steps\n",
    "    for t=1:length(zs)-1\n",
    "        Gen.maybe_resample!(state, ess_threshold=num_particles/2)\n",
    "        obs = Gen.choicemap(((:z, t), zs[t+1]))\n",
    "        Gen.particle_filter_step!(state, (t,), (UnknownChange(),), obs)\n",
    "    end\n",
    "    \n",
    "    # return a sample of unweighted traces from the weighted collection\n",
    "    return Gen.sample_unweighted_traces(state, num_samples)\n",
    "end;"
   ]
  }
 ],
 "metadata": {
  "kernelspec": {
   "display_name": "Julia 1.9.4",
   "language": "julia",
   "name": "julia-1.9"
  },
  "language_info": {
   "file_extension": ".jl",
   "mimetype": "application/julia",
   "name": "julia",
   "version": "1.9.4"
  }
 },
 "nbformat": 4,
 "nbformat_minor": 5
}
